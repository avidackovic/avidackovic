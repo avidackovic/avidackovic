{
 "cells": [
  {
   "cell_type": "markdown",
   "id": "crude-greensboro",
   "metadata": {},
   "source": [
    "<img src=\"https://upload.wikimedia.org/wikipedia/commons/6/63/ETH_Z%C3%BCrich_wordmark.svg\" width=\"200\" height=\"200\" align=\"left\">\n",
    "<br />\n",
    "<div align=\"right\"> <b/> FS 2022\n",
    "<br />\n",
    "    \n",
    "## <div align=\"center\"> Project & Seminars: Python for Science & Machine Learning\n",
    "---"
   ]
  },
  {
   "cell_type": "markdown",
   "id": "standard-condition",
   "metadata": {},
   "source": [
    "# <div align=\"center\"> 6th week: Curve-fitting using SciPy & Fast Fourier Transforms of audio files"
   ]
  },
  {
   "cell_type": "markdown",
   "id": "9e8b0ae9",
   "metadata": {},
   "source": []
  },
  {
   "cell_type": "markdown",
   "id": "aware-future",
   "metadata": {},
   "source": [
    "## Introduction\n",
    "In this exercise sheet there are two separate exercises. One is fitting a function to Covid data from Switzerland, and the other is doing a FFT analysis of audio files where you will decompose sound into it's frequencies."
   ]
  },
  {
   "cell_type": "markdown",
   "id": "minor-picnic",
   "metadata": {},
   "source": [
    "# Exercise 1: Using SciPy to fit Covid data"
   ]
  },
  {
   "cell_type": "markdown",
   "id": "b56e1436",
   "metadata": {},
   "source": [
    "## Covid statistics: is spread an exponential?"
   ]
  },
  {
   "attachments": {},
   "cell_type": "markdown",
   "id": "b0de528f",
   "metadata": {},
   "source": [
    "In this exercise you will work with fitting some real covid data from the first wave in Switzerland two years ago to a very simple function that turns out to have pretty strong predictive power.\n",
    "\n",
    "This data is publically avaible on the internet, and we use a library called `pandas` to open and modify it. `pandas` is a great tool to use when dealing with more complex datasets but you do not have to worry about how to use it here, it is done for you.\n",
    "\n",
    "**Note:** If you are missing some of the packages imported below, remember that you can download them using ``pip install PACKAGE_NAME`` in the **workstation's terminal**. Sometimes the PACKAGE_NAME is slightly different, if so please ask your friend Google ;)."
   ]
  },
  {
   "cell_type": "markdown",
   "id": "fb72117e",
   "metadata": {},
   "source": [
    "### Opening the data using pandas"
   ]
  },
  {
   "cell_type": "code",
   "execution_count": 1,
   "id": "a429435d",
   "metadata": {},
   "outputs": [
    {
     "ename": "ImportError",
     "evalue": "DLL load failed while importing _cext: Das angegebene Modul wurde nicht gefunden.",
     "output_type": "error",
     "traceback": [
      "\u001b[1;31m---------------------------------------------------------------------------\u001b[0m",
      "\u001b[1;31mImportError\u001b[0m                               Traceback (most recent call last)",
      "Cell \u001b[1;32mIn[1], line 1\u001b[0m\n\u001b[1;32m----> 1\u001b[0m \u001b[38;5;28;01mimport\u001b[39;00m \u001b[38;5;21;01mmatplotlib\u001b[39;00m\u001b[38;5;21;01m.\u001b[39;00m\u001b[38;5;21;01mpyplot\u001b[39;00m \u001b[38;5;28;01mas\u001b[39;00m \u001b[38;5;21;01mplt\u001b[39;00m\n\u001b[0;32m      2\u001b[0m \u001b[38;5;28;01mimport\u001b[39;00m \u001b[38;5;21;01mnumpy\u001b[39;00m \u001b[38;5;28;01mas\u001b[39;00m \u001b[38;5;21;01mnp\u001b[39;00m\n\u001b[0;32m      3\u001b[0m \u001b[38;5;28;01mimport\u001b[39;00m \u001b[38;5;21;01mpandas\u001b[39;00m \u001b[38;5;28;01mas\u001b[39;00m \u001b[38;5;21;01mpd\u001b[39;00m\n",
      "File \u001b[1;32mc:\\Users\\aco\\avidackovic\\.venv\\Lib\\site-packages\\matplotlib\\__init__.py:272\u001b[0m\n\u001b[0;32m    267\u001b[0m         \u001b[38;5;28;01mif\u001b[39;00m parse_version(module\u001b[38;5;241m.\u001b[39m__version__) \u001b[38;5;241m<\u001b[39m parse_version(minver):\n\u001b[0;32m    268\u001b[0m             \u001b[38;5;28;01mraise\u001b[39;00m \u001b[38;5;167;01mImportError\u001b[39;00m(\u001b[38;5;124mf\u001b[39m\u001b[38;5;124m\"\u001b[39m\u001b[38;5;124mMatplotlib requires \u001b[39m\u001b[38;5;132;01m{\u001b[39;00mmodname\u001b[38;5;132;01m}\u001b[39;00m\u001b[38;5;124m>=\u001b[39m\u001b[38;5;132;01m{\u001b[39;00mminver\u001b[38;5;132;01m}\u001b[39;00m\u001b[38;5;124m; \u001b[39m\u001b[38;5;124m\"\u001b[39m\n\u001b[0;32m    269\u001b[0m                               \u001b[38;5;124mf\u001b[39m\u001b[38;5;124m\"\u001b[39m\u001b[38;5;124myou have \u001b[39m\u001b[38;5;132;01m{\u001b[39;00mmodule\u001b[38;5;241m.\u001b[39m__version__\u001b[38;5;132;01m}\u001b[39;00m\u001b[38;5;124m\"\u001b[39m)\n\u001b[1;32m--> 272\u001b[0m \u001b[43m_check_versions\u001b[49m\u001b[43m(\u001b[49m\u001b[43m)\u001b[49m\n\u001b[0;32m    275\u001b[0m \u001b[38;5;66;03m# The decorator ensures this always returns the same handler (and it is only\u001b[39;00m\n\u001b[0;32m    276\u001b[0m \u001b[38;5;66;03m# attached once).\u001b[39;00m\n\u001b[0;32m    277\u001b[0m \u001b[38;5;129m@functools\u001b[39m\u001b[38;5;241m.\u001b[39mcache\n\u001b[0;32m    278\u001b[0m \u001b[38;5;28;01mdef\u001b[39;00m \u001b[38;5;21m_ensure_handler\u001b[39m():\n",
      "File \u001b[1;32mc:\\Users\\aco\\avidackovic\\.venv\\Lib\\site-packages\\matplotlib\\__init__.py:266\u001b[0m, in \u001b[0;36m_check_versions\u001b[1;34m()\u001b[0m\n\u001b[0;32m    257\u001b[0m \u001b[38;5;28;01mfrom\u001b[39;00m \u001b[38;5;21;01m.\u001b[39;00m \u001b[38;5;28;01mimport\u001b[39;00m ft2font\n\u001b[0;32m    259\u001b[0m \u001b[38;5;28;01mfor\u001b[39;00m modname, minver \u001b[38;5;129;01min\u001b[39;00m [\n\u001b[0;32m    260\u001b[0m         (\u001b[38;5;124m\"\u001b[39m\u001b[38;5;124mcycler\u001b[39m\u001b[38;5;124m\"\u001b[39m, \u001b[38;5;124m\"\u001b[39m\u001b[38;5;124m0.10\u001b[39m\u001b[38;5;124m\"\u001b[39m),\n\u001b[0;32m    261\u001b[0m         (\u001b[38;5;124m\"\u001b[39m\u001b[38;5;124mdateutil\u001b[39m\u001b[38;5;124m\"\u001b[39m, \u001b[38;5;124m\"\u001b[39m\u001b[38;5;124m2.7\u001b[39m\u001b[38;5;124m\"\u001b[39m),\n\u001b[1;32m   (...)\u001b[0m\n\u001b[0;32m    264\u001b[0m         (\u001b[38;5;124m\"\u001b[39m\u001b[38;5;124mpyparsing\u001b[39m\u001b[38;5;124m\"\u001b[39m, \u001b[38;5;124m\"\u001b[39m\u001b[38;5;124m2.3.1\u001b[39m\u001b[38;5;124m\"\u001b[39m),\n\u001b[0;32m    265\u001b[0m ]:\n\u001b[1;32m--> 266\u001b[0m     module \u001b[38;5;241m=\u001b[39m \u001b[43mimportlib\u001b[49m\u001b[38;5;241;43m.\u001b[39;49m\u001b[43mimport_module\u001b[49m\u001b[43m(\u001b[49m\u001b[43mmodname\u001b[49m\u001b[43m)\u001b[49m\n\u001b[0;32m    267\u001b[0m     \u001b[38;5;28;01mif\u001b[39;00m parse_version(module\u001b[38;5;241m.\u001b[39m__version__) \u001b[38;5;241m<\u001b[39m parse_version(minver):\n\u001b[0;32m    268\u001b[0m         \u001b[38;5;28;01mraise\u001b[39;00m \u001b[38;5;167;01mImportError\u001b[39;00m(\u001b[38;5;124mf\u001b[39m\u001b[38;5;124m\"\u001b[39m\u001b[38;5;124mMatplotlib requires \u001b[39m\u001b[38;5;132;01m{\u001b[39;00mmodname\u001b[38;5;132;01m}\u001b[39;00m\u001b[38;5;124m>=\u001b[39m\u001b[38;5;132;01m{\u001b[39;00mminver\u001b[38;5;132;01m}\u001b[39;00m\u001b[38;5;124m; \u001b[39m\u001b[38;5;124m\"\u001b[39m\n\u001b[0;32m    269\u001b[0m                           \u001b[38;5;124mf\u001b[39m\u001b[38;5;124m\"\u001b[39m\u001b[38;5;124myou have \u001b[39m\u001b[38;5;132;01m{\u001b[39;00mmodule\u001b[38;5;241m.\u001b[39m__version__\u001b[38;5;132;01m}\u001b[39;00m\u001b[38;5;124m\"\u001b[39m)\n",
      "File \u001b[1;32mC:\\Program Files\\WindowsApps\\PythonSoftwareFoundation.Python.3.12_3.12.1008.0_x64__qbz5n2kfra8p0\\Lib\\importlib\\__init__.py:90\u001b[0m, in \u001b[0;36mimport_module\u001b[1;34m(name, package)\u001b[0m\n\u001b[0;32m     88\u001b[0m             \u001b[38;5;28;01mbreak\u001b[39;00m\n\u001b[0;32m     89\u001b[0m         level \u001b[38;5;241m+\u001b[39m\u001b[38;5;241m=\u001b[39m \u001b[38;5;241m1\u001b[39m\n\u001b[1;32m---> 90\u001b[0m \u001b[38;5;28;01mreturn\u001b[39;00m \u001b[43m_bootstrap\u001b[49m\u001b[38;5;241;43m.\u001b[39;49m\u001b[43m_gcd_import\u001b[49m\u001b[43m(\u001b[49m\u001b[43mname\u001b[49m\u001b[43m[\u001b[49m\u001b[43mlevel\u001b[49m\u001b[43m:\u001b[49m\u001b[43m]\u001b[49m\u001b[43m,\u001b[49m\u001b[43m \u001b[49m\u001b[43mpackage\u001b[49m\u001b[43m,\u001b[49m\u001b[43m \u001b[49m\u001b[43mlevel\u001b[49m\u001b[43m)\u001b[49m\n",
      "File \u001b[1;32mc:\\Users\\aco\\avidackovic\\.venv\\Lib\\site-packages\\kiwisolver\\__init__.py:8\u001b[0m\n\u001b[0;32m      1\u001b[0m \u001b[38;5;66;03m# --------------------------------------------------------------------------------------\u001b[39;00m\n\u001b[0;32m      2\u001b[0m \u001b[38;5;66;03m# Copyright (c) 2013-2022, Nucleic Development Team.\u001b[39;00m\n\u001b[0;32m      3\u001b[0m \u001b[38;5;66;03m#\u001b[39;00m\n\u001b[1;32m   (...)\u001b[0m\n\u001b[0;32m      6\u001b[0m \u001b[38;5;66;03m# The full license is in the file LICENSE, distributed with this software.\u001b[39;00m\n\u001b[0;32m      7\u001b[0m \u001b[38;5;66;03m# --------------------------------------------------------------------------------------\u001b[39;00m\n\u001b[1;32m----> 8\u001b[0m \u001b[38;5;28;01mfrom\u001b[39;00m \u001b[38;5;21;01m.\u001b[39;00m\u001b[38;5;21;01m_cext\u001b[39;00m \u001b[38;5;28;01mimport\u001b[39;00m (\n\u001b[0;32m      9\u001b[0m     Constraint,\n\u001b[0;32m     10\u001b[0m     Expression,\n\u001b[0;32m     11\u001b[0m     Solver,\n\u001b[0;32m     12\u001b[0m     Term,\n\u001b[0;32m     13\u001b[0m     Variable,\n\u001b[0;32m     14\u001b[0m     __kiwi_version__,\n\u001b[0;32m     15\u001b[0m     __version__,\n\u001b[0;32m     16\u001b[0m     strength,\n\u001b[0;32m     17\u001b[0m )\n\u001b[0;32m     18\u001b[0m \u001b[38;5;28;01mfrom\u001b[39;00m \u001b[38;5;21;01m.\u001b[39;00m\u001b[38;5;21;01mexceptions\u001b[39;00m \u001b[38;5;28;01mimport\u001b[39;00m (\n\u001b[0;32m     19\u001b[0m     BadRequiredStrength,\n\u001b[0;32m     20\u001b[0m     DuplicateConstraint,\n\u001b[1;32m   (...)\u001b[0m\n\u001b[0;32m     24\u001b[0m     UnsatisfiableConstraint,\n\u001b[0;32m     25\u001b[0m )\n\u001b[0;32m     27\u001b[0m __all__ \u001b[38;5;241m=\u001b[39m [\n\u001b[0;32m     28\u001b[0m     \u001b[38;5;124m\"\u001b[39m\u001b[38;5;124mBadRequiredStrength\u001b[39m\u001b[38;5;124m\"\u001b[39m,\n\u001b[0;32m     29\u001b[0m     \u001b[38;5;124m\"\u001b[39m\u001b[38;5;124mDuplicateConstraint\u001b[39m\u001b[38;5;124m\"\u001b[39m,\n\u001b[1;32m   (...)\u001b[0m\n\u001b[0;32m     41\u001b[0m     \u001b[38;5;124m\"\u001b[39m\u001b[38;5;124m__kiwi_version__\u001b[39m\u001b[38;5;124m\"\u001b[39m,\n\u001b[0;32m     42\u001b[0m ]\n",
      "\u001b[1;31mImportError\u001b[0m: DLL load failed while importing _cext: Das angegebene Modul wurde nicht gefunden."
     ]
    }
   ],
   "source": [
    "import matplotlib.pyplot as plt\n",
    "import numpy as np\n",
    "import pandas as pd\n",
    "\n",
    "# Import data \n",
    "data = pd.read_excel('covidData.xlsx')\n",
    "# Keep only the data of Switzerland\n",
    "swiss_data = data.iloc[np.where(data['countriesAndTerritories'] == 'Switzerland')]\n",
    "# Sort the data chronologically\n",
    "swiss_data = swiss_data.sort_values(by='dateRep')\n",
    "swiss_data"
   ]
  },
  {
   "cell_type": "markdown",
   "id": "66f6cb50",
   "metadata": {},
   "source": [
    "Plot all daily cases from the start of the pandemic to now, just to get an overview."
   ]
  },
  {
   "cell_type": "code",
   "execution_count": 4,
   "id": "02bd6c29",
   "metadata": {},
   "outputs": [
    {
     "data": {
      "image/png": "[encoded data removed]",
      "text/plain": [
       "<Figure size 1000x400 with 1 Axes>"
      ]
     },
     "metadata": {},
     "output_type": "display_data"
    }
   ],
   "source": [
    "# get dates and cases from the pandas dataframe\n",
    "dates = swiss_data['dateRep']\n",
    "cases = swiss_data['cases']\n",
    "\n",
    "# plot\n",
    "plt.figure(figsize=(10, 4))\n",
    "plt.title('Daily New Cases in Switzerland')\n",
    "plt.plot(dates, cases, marker='o', color='r', markersize=0.5, linestyle='None')\n",
    "plt.vlines(dates, 0, cases, color='r', label='Covid cases')\n",
    "plt.show()"
   ]
  },
  {
   "cell_type": "markdown",
   "id": "592b0e50",
   "metadata": {},
   "source": [
    "In this exercise we are interested in the **cumulative sum** of cases, that is, the total number of infections at a given point in time. This is achieved by a running sum of the daily new cases."
   ]
  },
  {
   "cell_type": "code",
   "execution_count": 5,
   "id": "ee85a7e4",
   "metadata": {
    "scrolled": false
   },
   "outputs": [
    {
     "data": {
      "image/png": "[encoded data removed]",
      "text/plain": [
       "<Figure size 1000x400 with 1 Axes>"
      ]
     },
     "metadata": {},
     "output_type": "display_data"
    }
   ],
   "source": [
    "# Calculate cumulative sum of cases\n",
    "cumulative_cases = np.cumsum(cases)\n",
    "\n",
    "plt.figure(figsize=(10, 4))\n",
    "plt.title('Cumulative Covid-19 Cases in Switzerland')\n",
    "plt.plot(dates, cumulative_cases, color='r')\n",
    "plt.show()"
   ]
  },
  {
   "cell_type": "markdown",
   "id": "4f265866",
   "metadata": {},
   "source": [
    "Pick out only the first wave."
   ]
  },
  {
   "cell_type": "code",
   "execution_count": 7,
   "id": "e704f3f0",
   "metadata": {},
   "outputs": [],
   "source": [
    "# Get data from first wave, between 1st of February 2020 and 31st of May 2020\n",
    "first_wave = swiss_data.loc[(1 < swiss_data['month']) & (swiss_data['month'] < 6)]\n",
    "first_dates = np.array(first_wave['dateRep'])\n",
    "first_cases = np.cumsum(np.array(first_wave['cases'])) # make cumulative sum"
   ]
  },
  {
   "cell_type": "markdown",
   "id": "448da0aa",
   "metadata": {},
   "source": [
    "## Exponential?\n",
    "At the early stage of an outbreak, the viral spread is exponential since the rate of infection is proportional to the number of infected people. This is reasonable since the rate of infection should be larger the more sick people there are. This is given by a differential equation:\n",
    "\n",
    "$$ \\frac{dN}{dt} = aN(t) $$\n",
    "\n",
    "The solution to this is an exponential $N(t) = Ae^{at}$. Does the real covid data from last year agree with this simplified model?\n",
    "\n",
    "### Exercise 1.1: Looking at shape of first wave \n",
    "You now have two arrays, `first_dates` and `first_cases`. Make two new arrays with only the dates and cases from February 1st (beginning) to March 15th 2020 (doesn't have to be exact, but somewhere around the middle of March to get the early stage of the outbreak).\n",
    "\n",
    "Plot the two new arrays, calculate the logarithm of the cases using `np.log()` and plot it too. \n",
    "\n",
    "What is the shape of the cases? If it is exponential, what should the shape of the logarithm of the spread be?"
   ]
  },
  {
   "cell_type": "code",
   "execution_count": 8,
   "id": "980974ac",
   "metadata": {},
   "outputs": [
    {
     "ename": "NameError",
     "evalue": "name 'first' is not defined",
     "output_type": "error",
     "traceback": [
      "\u001b[1;31m---------------------------------------------------------------------------\u001b[0m",
      "\u001b[1;31mNameError\u001b[0m                                 Traceback (most recent call last)",
      "Cell \u001b[1;32mIn[8], line 3\u001b[0m\n\u001b[0;32m      1\u001b[0m \u001b[38;5;66;03m# enter your code here\u001b[39;00m\n\u001b[1;32m----> 3\u001b[0m february_to_march \u001b[38;5;241m=\u001b[39m \u001b[43mfirst\u001b[49m\n",
      "\u001b[1;31mNameError\u001b[0m: name 'first' is not defined"
     ]
    }
   ],
   "source": [
    "# enter your code here\n",
    "\n",
    "new_dates = "
   ]
  },
  {
   "cell_type": "markdown",
   "id": "990b6f7e",
   "metadata": {},
   "source": [
    "Now plot the whole first wave. Does the data still look exponential? What is the shape of the logarithm of the data? **Explain why the shape is no longer exponential.**"
   ]
  },
  {
   "cell_type": "code",
   "execution_count": null,
   "id": "e1ff5d62",
   "metadata": {},
   "outputs": [],
   "source": [
    "# enter your code here"
   ]
  },
  {
   "cell_type": "markdown",
   "id": "7dd817fd",
   "metadata": {},
   "source": [
    "## How to correct for non-exponential development\n",
    "To account for the effects that cause the data to no longer be exponential (no spoilers what it is!), we use a logistic function (a type of sigmoid):\n",
    "\n",
    "$$N_{logistic}(t) = \\frac{A}{1 + e^{-k(t - t_0)}}$$\n",
    "\n",
    "Where A is a normalization, k the rate of change, and t0 the value of the infliction point (where the function reaches half its maximum in this case).\n",
    "\n",
    "### Bonus note: \n",
    "The logistic function is given from a differential equation of the form\n",
    "\n",
    "$$ \\frac{dN(t)}{dt} = \\frac{k}{a}N(t)(a - N(t)) $$\n",
    "\n",
    "Is this compatible with your reasoning why the spread is not exponential after some time?\n",
    "\n",
    "### Exercise 1.2: Fitting the first wave to a logistic function\n",
    "\n",
    "Write a function of the form `def sigmoid(t,A,k,t0):` that returns the value of the logistic function."
   ]
  },
  {
   "cell_type": "markdown",
   "id": "ce7df846",
   "metadata": {},
   "source": [
    "Then, use SciPy fitting to get best fit values for the parameters A, k and t0 to the real covid data. The scipy function `curve_fit` uses least-squares method to fit a function to a set of data, similar to the fitting code you wrote in a previous exercise. `curve_fit` will return `popt` (parameter optimal) which are the best values of your fit parameters (A, k and t0) and `pcov` (parameter covariance) which gives correlation between the parameters. You can ignore the covariance in this exercise.\n",
    "\n",
    "After getting your optimal fit parameters, plot a logistic function with the best fit parameters on top of the real covid data. Isn't it incredible how such a simple function predicts virus spread so accurately?"
   ]
  },
  {
   "cell_type": "code",
   "execution_count": null,
   "id": "703c1fbf",
   "metadata": {},
   "outputs": [],
   "source": [
    "from scipy.optimize import curve_fit\n",
    "\n",
    "def sigmoid(t,A,k,t0):\n",
    "    # enter your code here\n",
    "\n",
    "# get an array of day number instead of dates (for computation can't use dates)\n",
    "day_array = np.arange(0, len(first_cases))\n",
    "# fit the data\n",
    "popt, pcov = curve_fit(sigmoid, day_array, first_cases)\n",
    "print(\"Best fit of [A,k,t0] = \",popt)\n",
    "\n",
    "A_best = popt[0]\n",
    "k_best = popt[1]\n",
    "t0_best = popt[2]\n",
    "\n",
    "# plot the results of your fit on top of the real covid data\n",
    "# enter your code here"
   ]
  },
  {
   "cell_type": "markdown",
   "id": "8da348ee",
   "metadata": {},
   "source": [
    "In the logistic function, the parameter k is related to the probability of viral transmission between people. If we lower it (for example using masks and social distancing), then the spread slows down, but ultimately reaches the same total number of infections. This is what's referred to as *flattening the curve* in media. The total number of cases are the same, but the health care system is less strained due to lower volume of infections per day."
   ]
  },
  {
   "cell_type": "markdown",
   "id": "d3b09def",
   "metadata": {},
   "source": [
    "# Exercise 2: Using numpy to analyze audio data - Fast Fourier Transform"
   ]
  },
  {
   "cell_type": "markdown",
   "id": "c078a541",
   "metadata": {},
   "source": [
    "In this part of the exercise you will use numpy to study the properties of two audio files:\n",
    "\n",
    "+ \"guitarC.wav\": Audio of a classical guitar playing the C4 note (262Hz).\n",
    "\n",
    "+ \"pianoC.wav\": Audio of a piano playing the C4 note (262Hz).\n",
    "\n",
    "You will visualize the differences of both audios, and modify them to try and obtain exactly the same sound. \n",
    "\n",
    "To do so you will use numpy's ``numpy.fft.rfft`` function to compute the Fast Fourier Transform of a real-valued array.\n",
    "\n",
    "**Note:** If you are missing some of the packages imported below, remember that you can download them using ``pip install PACKAGE_NAME`` in the workstation's terminal. Sometimes the PACKAGE_NAME is slightly different, if so please ask your friend Google ;)."
   ]
  },
  {
   "cell_type": "code",
   "execution_count": null,
   "id": "5a1fb57f",
   "metadata": {},
   "outputs": [],
   "source": [
    "# Import necessary packages\n",
    "\n",
    "import matplotlib.pyplot as plt\n",
    "import numpy as np\n",
    "import wave\n",
    "import sys\n",
    "from IPython.display import Audio,display\n",
    "from scipy.io.wavfile import write"
   ]
  },
  {
   "cell_type": "markdown",
   "id": "697376cc",
   "metadata": {},
   "source": [
    "You will use the function written below to play the audios in Jupyter Notebook."
   ]
  },
  {
   "cell_type": "code",
   "execution_count": null,
   "id": "e00ecccf",
   "metadata": {
    "scrolled": true
   },
   "outputs": [],
   "source": [
    "# Listen to original audio file\n",
    "\n",
    "print('C4 note (262Hz) played on a classical guitar:')\n",
    "display(Audio(\"guitarC.wav\"))\n",
    "\n",
    "print('C4 note (262Hz) played on a piano:')\n",
    "display(Audio(\"pianoC.wav\"))\n"
   ]
  },
  {
   "cell_type": "markdown",
   "id": "0346a546",
   "metadata": {},
   "source": [
    "**Exercise 2.2:** Read the following code and fill the blanks:\n",
    ">1. Using the already given data (frame rate, number of frames), create two numpy arrays called _guitarTime_ and _pianoTime_ that will contain the time (in milliseconds) that corresponds to each value of the _guitarSignal_ and _pianoSignal_ arrays.  \n",
    "    + **Hint:** Use the function ``np.linspace``. Both time and signal arrays should have the same length. \n",
    "\n",
    ">2. Using the function ``plt.subplots``, create a plot containing one subplot for each signal with the following characteristics:\n",
    ">    + Contains 2 rows and 1 column.\n",
    ">    + Has a width of 12 inches and a height of 6 inches (inches is already the default in matplotlib).\n",
    ">    + The first subplot contains the function _guitarSignal_ vs _guitarTime_ and is named \"Guitar Signal Wave\".\n",
    ">    + The second subplot contains the function _pianoSignal_ vs _pianoTime_ and is named \"Piano Signal Wave\".\n",
    ">    + Name the x axis: \"t (ms)\" (for both subplots).\n",
    ">    + Name the y axis: \"Amplitude\" (for both subplots).\n",
    ">    + Plot only the following range of time values: [100, 110] ms (for both subplots).\n",
    ">    + Use ``plt.tight_layout()`` to automatically adjust the padding around and between subplots.\n",
    ">\n",
    "\n",
    "**Documentation:** ``plt.subplots``: https://matplotlib.org/stable/api/_as_gen/matplotlib.pyplot.subplots.html"
   ]
  },
  {
   "cell_type": "code",
   "execution_count": null,
   "id": "4fc19fc3",
   "metadata": {
    "scrolled": false
   },
   "outputs": [],
   "source": [
    "# Open audio files\n",
    "guitar = wave.open(\"guitarC.wav\", \"r\")\n",
    "piano = wave.open(\"pianoC.wav\", \"r\")\n",
    "\n",
    "# Extract Raw Audio from Wav Files \n",
    "guitarSignal = np.frombuffer(guitar.readframes(-1), dtype=\"int32\")  # data\n",
    "guitarRate = guitar.getframerate()  # framerate\n",
    "guitarFrames = guitar.getnframes()  # nº frames\n",
    "guitarTime = ### 1: INSERT YOUR CODE HERE\n",
    "\n",
    "pianoSignal = np.frombuffer(piano.readframes(-1), dtype=\"int16\")  # data\n",
    "pianoRate = piano.getframerate()  # framerate\n",
    "pianoFrames = piano.getnframes()  # nº frames\n",
    "pianoTime = ### 1: INSERT YOUR CODE HERE\n",
    "\n",
    "# Plot audio signals\n",
    "fig, (ax1, ax2) = plt.subplots(2, 1, figsize=(12, 6))\n",
    "### 2: INSERT YOUR CODE HERE\n",
    "ax1.minorticks_on()  # activate minorticks for the first subplot\n",
    "ax1.grid(which='minor')  # add a grid with subdivisions to the first subplot\n",
    "ax2.minorticks_on()  # activate minorticks for the second subplot\n",
    "ax2.grid(which='minor')  # add a grid with subdivisions to the second subplot\n",
    "plt.show()"
   ]
  },
  {
   "cell_type": "markdown",
   "id": "0ec6e28c",
   "metadata": {},
   "source": [
    "**Exercise 2.3:** Take a look at the shape of both signals (ignore the amplitude). Are they periodic? If yes, what is their period? And their frequency? Does it make sense?"
   ]
  },
  {
   "cell_type": "markdown",
   "id": "bac97e70",
   "metadata": {},
   "source": [
    "**Write the answer here:**"
   ]
  },
  {
   "cell_type": "markdown",
   "id": "5bd46375",
   "metadata": {},
   "source": [
    "**Exercise 2.4:** Calculate the Fast Fourier Transform of both signals using ``np.fft.rfft``. Calculate also the frequency that corresponds to each value of the Fast Fourier Transform using ``np.fft.rfftfreq``.\n",
    "\n",
    "**Documentation:**\n",
    "+ ``np.fft.rfft``: https://numpy.org/doc/stable/reference/generated/numpy.fft.rfft.html  \n",
    "+ ``np.fft.rfftfreq``: https://numpy.org/doc/stable/reference/generated/numpy.fft.rfftfreq.html"
   ]
  },
  {
   "cell_type": "code",
   "execution_count": null,
   "id": "1f80e8bf",
   "metadata": {},
   "outputs": [],
   "source": [
    "# Fast Fourier Transform\n",
    "guitarFFT = ### INSERT YOUR CODE HERE\n",
    "guitarFreq = ### INSERT YOUR CODE HERE\n",
    "pianoFFT = ### INSERT YOUR CODE HERE\n",
    "pianoFreq = ### INSERT YOUR CODE HERE"
   ]
  },
  {
   "cell_type": "markdown",
   "id": "4f0e5252",
   "metadata": {},
   "source": [
    "**Exercise 2.5:** Plot (using the same function as before) a figure with 4 subplots (2 rows and 2 columns):\n",
    "+ The first row should contain two plots of the function _guitarFFT_ vs _guitarFreq_. The first with data from 0 to 5000 Hz and the second from 0 to 1000 Hz.\n",
    "+ Do the same for _pianoFFT_ vs _pianoFreq_ for the second row.\n",
    "+ Add titles to the subplots and axis, and use ``plt.tight_layout()`` for better visualization."
   ]
  },
  {
   "cell_type": "code",
   "execution_count": null,
   "id": "46c0a748",
   "metadata": {},
   "outputs": [],
   "source": [
    "# Plot audio signals\n",
    "fig, ((ax1, ax2), (ax3, ax4)) = plt.subplots(2, 2, figsize=(12, 6))\n",
    "### INSERT YOUR CODE HERE\n",
    "plt.show()"
   ]
  },
  {
   "cell_type": "markdown",
   "id": "f0e10c25",
   "metadata": {},
   "source": [
    "**Exercise 2.6:** What can you see? What is the dominating frequency? How could we differentiate the two instruments only looking at the spectrum?"
   ]
  },
  {
   "cell_type": "markdown",
   "id": "b95613d5",
   "metadata": {},
   "source": [
    "**Write your answer here:**"
   ]
  },
  {
   "cell_type": "markdown",
   "id": "eea60e48",
   "metadata": {},
   "source": [
    "Now you will modify the Fourier Transform of both signals to try and obtain exactly the same sound in both audios.\n",
    "\n",
    "To do so, you will set to 0 all the values of _guitarFFT_ and _pianoFFT_ that are NOT in its main frequency (262 Hz). Given that the frequency values are floats, there may be a possibility that there is not a single value with a exact frequency of 262 Hz. To avoid this, you will convert the frequency arrays' type into integers first.\n",
    "\n",
    "**Exercise 2.7:** Convert the type of the arrays _guitarFreq_ and _pianoFreq_ into integers. Then use them to set to 0 all the values of _guitarFFT_ and _pianoFFT_ that are not in the appropriate frequency. Afterwards apply the inverse FFT using ``np.fft.irfft``. Finally, plot the two filtered signals **using the same characteristics** as in Exercise 2.2 (you can copy the code from there and make the necessary changes).\n",
    "\n",
    "+ **Hint:** You may want to take a look at Boolean array indexing: https://numpy.org/devdocs/reference/arrays.indexing.html#boolean-array-indexing\n",
    "\n",
    "**Documentation:** ``np.fft.irfft``: https://numpy.org/doc/stable/reference/generated/numpy.fft.irfft.html"
   ]
  },
  {
   "cell_type": "code",
   "execution_count": null,
   "id": "49d9febe",
   "metadata": {
    "scrolled": false
   },
   "outputs": [],
   "source": [
    "### INSERT YOUR CODE HERE\n",
    "guitarFiltSignal = np.fft.irfft(guitarFFT)  # apply inverse Fast Fourier Transform of guitarFFT\n",
    "pianoFiltSignal = np.fft.irfft(pianoFFT)  # apply inverse Fast Fourier Transform of pianoFFT\n",
    "\n",
    "# Plot audio signals\n",
    "fig, (ax1, ax2) = plt.subplots(2, 1, figsize=(12, 6))\n",
    "### INSERT YOUR CODE HERE\n",
    "plt.show()"
   ]
  },
  {
   "cell_type": "markdown",
   "id": "64b6b328",
   "metadata": {},
   "source": [
    "**Exercise 2.8:** What can you see? Why did this happen? (ignore the phase)"
   ]
  },
  {
   "cell_type": "markdown",
   "id": "9ebcab15",
   "metadata": {},
   "source": [
    "**Write your answer here:**"
   ]
  },
  {
   "cell_type": "markdown",
   "id": "94067563",
   "metadata": {},
   "source": [
    "Now, to finish, we will save this signals as audio files (.wav) to listen to them using the function _wavPlayer_ defined at the beginning of this exercise. To do so, we will use the function _write_. This function takes as inputs normalized arrays (with range [-1.0, 1.0]) of type float32.\n",
    "\n",
    "**Exercise 2.9:** Convert the signals that your filtered in last exercise into type float32 and normalize them. Use the code given to save them as .wav files. Afterwards, run the code in the next cell to play the two audios."
   ]
  },
  {
   "cell_type": "code",
   "execution_count": null,
   "id": "4ad5e5cf",
   "metadata": {
    "scrolled": false
   },
   "outputs": [],
   "source": [
    "# Save file\n",
    "guitarNormalized = ### INSERT YOUR CODE HERE\n",
    "write('guitarFilt.wav', guitarRate, guitarNormalized)  \n",
    "pianoNormalized = ### INSERT YOUR CODE HERE\n",
    "write('pianoFilt.wav', pianoRate, pianoNormalized)  "
   ]
  },
  {
   "cell_type": "code",
   "execution_count": null,
   "id": "5c8ab74b",
   "metadata": {
    "scrolled": false
   },
   "outputs": [],
   "source": [
    "display(Audio(('guitarFilt.wav')))\n",
    "display(Audio(('pianoFilt.wav')))"
   ]
  },
  {
   "cell_type": "markdown",
   "id": "5d2de3c8",
   "metadata": {},
   "source": [
    "### Optional exercise:\n",
    "\n",
    "As you may have seen, the results are not as expected, given that the two sounds are not **exactly** the same. If you have a good ear, you will hear how we have a modulation of intensity. Additionally, the phase of the signals plotted in Exercise 2.7 are slightly different. \n",
    "\n",
    "**Exercise 2.10:** Why is this happening?\n",
    "\n",
    "+ **Hints:** Try plotting the filtered signals in its whole range. Have a look at the FFT of the filtered signals..."
   ]
  },
  {
   "cell_type": "markdown",
   "id": "d79ee4df",
   "metadata": {},
   "source": [
    "**Write your answer here:**"
   ]
  },
  {
   "cell_type": "code",
   "execution_count": null,
   "id": "9fb4b819",
   "metadata": {},
   "outputs": [],
   "source": [
    "### INSERT YOUR CODE HERE"
   ]
  }
 ],
 "metadata": {
  "kernelspec": {
   "display_name": "Python 3",
   "language": "python",
   "name": "python3"
  },
  "language_info": {
   "codemirror_mode": {
    "name": "ipython",
    "version": 3
   },
   "file_extension": ".py",
   "mimetype": "text/x-python",
   "name": "python",
   "nbconvert_exporter": "python",
   "pygments_lexer": "ipython3",
   "version": "3.12.3"
  }
 },
 "nbformat": 4,
 "nbformat_minor": 5
}
