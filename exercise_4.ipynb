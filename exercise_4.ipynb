{
 "cells": [
  {
   "cell_type": "markdown",
   "metadata": {
    "id": "35iMifZkvjJP",
    "pycharm": {
     "name": "#%% md\n"
    }
   },
   "source": [
    "<img src=\"https://upload.wikimedia.org/wikipedia/commons/6/63/ETH_Z%C3%BCrich_wordmark.svg\" width=\"200\" height=\"200\" align=\"left\">\n",
    "<br />\n",
    "<div align=\"right\"> <b/> FS 2024\n",
    "<br />\n",
    "    \n",
    "## <div align=\"center\"> Project & Seminars: Python for Science & Machine Learning\n",
    "---"
   ]
  },
  {
   "cell_type": "markdown",
   "metadata": {
    "id": "NaFZtWzivjJR",
    "pycharm": {
     "name": "#%% md\n"
    }
   },
   "source": [
    "# <div align=\"center\"> 5th week: Classes, List Functionalities"
   ]
  },
  {
   "cell_type": "markdown",
   "metadata": {
    "id": "BkFW9c9CvjJR",
    "pycharm": {
     "name": "#%% md\n"
    }
   },
   "source": [
    "## Introduction\n",
    "In this exercise you will learn about classes by writing a logger class and learn to manipulate lists using different Python Functions"
   ]
  },
  {
   "cell_type": "markdown",
   "metadata": {
    "id": "M73ehEQTvjJS",
    "pycharm": {
     "name": "#%% md\n"
    }
   },
   "source": [
    "## Exercise 1: Logger Class\n",
    "\n",
    "In this exercise you will implement a Logger Class. In computing, a log file is a file that records either events that occur in an operating system or other software runs, or messages between different users of a communication software. A Logger Class provides a way to configure different log handlers and a way of routing log messages to these handlers. \n",
    "\n",
    "### 1.1  \\_\\_init\\_\\_ method\n",
    "\n",
    "Let's start by creating the Logger class:\n",
    "\n",
    "**Remember:** \n",
    "\n",
    "+ Every Class should have an **\\_\\_init\\_\\_** method (a method is a function that belongs to a particular class), that automatically runs when an instance of the class is created. \n",
    "\n",
    "+ The parameters represent the data attributes. \n",
    "\n",
    "+ Every method should have an initial argument called _self_, which is where the instance attributes are stored. A intance attribute is created with: `self.attribute = 0`\n",
    "\n",
    "**Exercise:** Create a Class named _Logger_. The **\\_\\_init\\_\\_** method should have a parameter called _loglevel_ with a default value 0. Inside the init method create a class attribute named _level_ and set it to _loglevel_.\n",
    "\n",
    "To help you understand how to create a class, please take a look at the code below:"
   ]
  },
  {
   "cell_type": "code",
   "execution_count": 4,
   "metadata": {
    "id": "sAHVHgPEvjJS",
    "pycharm": {
     "name": "#%%\n"
    }
   },
   "outputs": [],
   "source": [
    "# Example\n",
    "class Person:  # create class\n",
    "    def __init__(self, age, name='James'):  # create __init__ method\n",
    "        self.age = age  # create attributes\n",
    "        self.name = name"
   ]
  },
  {
   "cell_type": "code",
   "execution_count": 8,
   "metadata": {
    "id": "baFm90_QvjJT",
    "pycharm": {
     "name": "#%%\n"
    }
   },
   "outputs": [],
   "source": [
    "# INSERT YOUR CODE HERE\n",
    "class Logger:\n",
    "    def __init__(self, loglevel = 0):\n",
    "        self.level = loglevel"
   ]
  },
  {
   "cell_type": "markdown",
   "metadata": {
    "id": "ZflAktCBvjJU",
    "pycharm": {
     "name": "#%% md\n"
    }
   },
   "source": [
    "**Exercise:** Instantiate your class and access its attribute (see example). From outside the class, change the attribute's value to a different one (you can treat it as a variable)."
   ]
  },
  {
   "cell_type": "code",
   "execution_count": 6,
   "metadata": {
    "id": "XKMRzQK5vjJU",
    "pycharm": {
     "name": "#%%\n"
    }
   },
   "outputs": [
    {
     "name": "stdout",
     "output_type": "stream",
     "text": [
      "The object x is of type: <class '__main__.Person'>\n"
     ]
    },
    {
     "data": {
      "text/plain": [
       "(24, 'John')"
      ]
     },
     "execution_count": 6,
     "metadata": {},
     "output_type": "execute_result"
    }
   ],
   "source": [
    "# Example\n",
    "p = Person(24, 'John')  # instantiate class\n",
    "print(f'The object x is of type: {type(p)}')\n",
    "p.age, p.name  # access attributes"
   ]
  },
  {
   "cell_type": "code",
   "execution_count": 12,
   "metadata": {
    "id": "p0_mnzJKvjJU",
    "pycharm": {
     "name": "#%%\n"
    }
   },
   "outputs": [
    {
     "name": "stdout",
     "output_type": "stream",
     "text": [
      "the object x ist of the type: <class '__main__.Logger'>\n"
     ]
    },
    {
     "data": {
      "text/plain": [
       "29"
      ]
     },
     "execution_count": 12,
     "metadata": {},
     "output_type": "execute_result"
    }
   ],
   "source": [
    "# INSERT YOUR CODE HERE\n",
    "x = Logger(29)\n",
    "print(f'the object x ist of the type: {type(x)}')\n",
    "x.level\n"
   ]
  },
  {
   "cell_type": "markdown",
   "metadata": {
    "id": "IJkXjv9nvjJV",
    "pycharm": {
     "name": "#%% md\n"
    }
   },
   "source": [
    "**Note:** Classes can be instantiated multiple times with different parameters!"
   ]
  },
  {
   "cell_type": "markdown",
   "metadata": {
    "id": "T79wblHovjJV",
    "pycharm": {
     "name": "#%% md\n"
    }
   },
   "source": [
    "### 1.2 Getters and setters"
   ]
  },
  {
   "cell_type": "markdown",
   "metadata": {
    "id": "8S0ko54XvjJV",
    "pycharm": {
     "name": "#%% md\n"
    }
   },
   "source": [
    "Changing attributes from outside the class is not recommended. Instead, we can implement methods to get and set the attribute values (aka getters and setters).\n",
    "\n",
    "**Exercise:** Add two methods inside the class to get and set the attribute value (you can copy what you did above). Then use these methods to change the attribute and print it. See example:"
   ]
  },
  {
   "cell_type": "code",
   "execution_count": null,
   "metadata": {
    "id": "9Ebf7jbBvjJV",
    "pycharm": {
     "name": "#%%\n"
    },
    "scrolled": true
   },
   "outputs": [],
   "source": [
    "# Example\n",
    "class Person:\n",
    "    def __init__(self, age, name='James'):\n",
    "        self.age = age\n",
    "        self.name = name\n",
    "\n",
    "    def set_age(self, newage):  # setter method\n",
    "        self.age = newage  # change the attribute \"self.age\" to \"newage\"\n",
    "\n",
    "    def get_age(self):\n",
    "        return self.age  # return the value \"self.age\" to the user\n",
    "\n",
    "\n",
    "p = Person(25, 'Martin')\n",
    "print(f'Martin has {p.get_age()} years old')  # get age value\n",
    "p.set_age(35)  # set age value\n",
    "print(f'Martin has {p.get_age()} years old')  # get age value again"
   ]
  },
  {
   "cell_type": "code",
   "execution_count": 16,
   "metadata": {
    "id": "WjxV2S_IvjJW",
    "pycharm": {
     "name": "#%%\n"
    }
   },
   "outputs": [
    {
     "name": "stdout",
     "output_type": "stream",
     "text": [
      "old level is 24\n",
      "new level is 29\n"
     ]
    }
   ],
   "source": [
    "# INSERT YOUR CODE HERE\n",
    "class Logger:\n",
    "    def __init__(self, loglevel = 0):\n",
    "        self.loglevel = loglevel\n",
    "\n",
    "    def set_level(self, newlevel):\n",
    "        self.loglevel = newlevel\n",
    "\n",
    "    def get_level(self):\n",
    "        return self.loglevel\n",
    "\n",
    "x = Logger(24)\n",
    "print(f'old level is {x.get_level()}')\n",
    "x.set_level(29)\n",
    "print(f'new level is {x.get_level()}') "
   ]
  },
  {
   "cell_type": "markdown",
   "metadata": {
    "id": "2tZVoq26vjJW",
    "pycharm": {
     "name": "#%% md\n"
    }
   },
   "source": [
    "### 1.3 Class methods"
   ]
  },
  {
   "cell_type": "markdown",
   "metadata": {
    "id": "hNEj6AxzvjJW",
    "pycharm": {
     "name": "#%% md\n"
    }
   },
   "source": [
    "As you just saw, we can define methods for our class. Remember that methods are functions associated with a particular class. \n",
    "\n",
    "Let's use our example above and define a method that calculates the age difference between two person objects:"
   ]
  },
  {
   "cell_type": "code",
   "execution_count": 17,
   "metadata": {
    "id": "6XtaJIGvvjJX",
    "pycharm": {
     "name": "#%%\n"
    }
   },
   "outputs": [
    {
     "name": "stdout",
     "output_type": "stream",
     "text": [
      "4\n"
     ]
    }
   ],
   "source": [
    "# Example\n",
    "class Person:\n",
    "    def __init__(self, age,\n",
    "                 name='James'):  # IMPORTANT: arguments with a default must go at the end to avoid a SyntaxError.\n",
    "        self.age = age\n",
    "        self.name = name\n",
    "\n",
    "    def set_age(self, age):\n",
    "        self.age = age\n",
    "\n",
    "    def get_age(self):\n",
    "        return self.age\n",
    "\n",
    "    def age_diff(self, other):  # method that calculates the age difference between two Person objects.\n",
    "        diff = self.age - other.age\n",
    "        return abs(diff)\n",
    "\n",
    "\n",
    "p1 = Person(22, 'Ashley')\n",
    "p2 = Person(26, 'Max')\n",
    "\n",
    "print(p1.age_diff(p2))"
   ]
  },
  {
   "cell_type": "markdown",
   "metadata": {
    "id": "67k4XZARvjJX",
    "pycharm": {
     "name": "#%% md\n"
    }
   },
   "source": [
    "**Exercise:** Define a new method for our Logger class (called _log_) that takes two arguments: _message_ (without default) and _priority_ (with default value 0). The purpose of this method is to print the _message_ **if** the value of _priority_ is equal or higher than the loglevel value of the class (the value of its attribute)."
   ]
  },
  {
   "cell_type": "code",
   "execution_count": 27,
   "metadata": {
    "id": "rj4qDvsxvjJX",
    "pycharm": {
     "name": "#%%\n"
    }
   },
   "outputs": [
    {
     "name": "stdout",
     "output_type": "stream",
     "text": [
      "old level is 24\n",
      "new level is 29\n",
      "hallo\n",
      "None\n",
      "None\n"
     ]
    }
   ],
   "source": [
    "#INSERT YOUR CODE HERE\n",
    "class Logger:\n",
    "    def __init__(self, loglevel = 0):\n",
    "        self.loglevel = loglevel\n",
    "\n",
    "    def set_level(self, newlevel):\n",
    "        self.loglevel = newlevel\n",
    "\n",
    "    def get_level(self):\n",
    "        return self.loglevel\n",
    "    \n",
    "    def log(self, message, priority = 0):\n",
    "        if priority >= x.get_level():\n",
    "            print(message)\n",
    "\n",
    "x = Logger(24)\n",
    "print(f'old level is {x.get_level()}')\n",
    "x.set_level(29)\n",
    "print(f'new level is {x.get_level()}')\n",
    "\n",
    "#priority = 12\n",
    "#message = \"Hallo\"\n",
    "print(x.log(\"hallo\", 30))\n",
    "print(x.log(\"hallo\", 12))\n",
    "\n",
    "#print(x.log\n"
   ]
  },
  {
   "cell_type": "markdown",
   "metadata": {
    "id": "gc9jILOGvjJY",
    "pycharm": {
     "name": "#%% md\n"
    }
   },
   "source": [
    "Well done! You have created your first Logger class. Now let's use it. Remember, with the Logger class we can write messages with a certain priority value. However, depending on the user level (defined during instantiation), only some messages will be displayed."
   ]
  },
  {
   "cell_type": "markdown",
   "metadata": {
    "id": "CfR3jxxmvjJY",
    "pycharm": {
     "name": "#%% md\n"
    }
   },
   "source": [
    "**Exercise:** Create a new instantiation of the Logger class with loglevel=1. Use the method you just created to log two messages: one with priority 2 and another with priority 0. What happens?"
   ]
  },
  {
   "cell_type": "code",
   "execution_count": null,
   "metadata": {
    "id": "HAhne0y_vjJY",
    "pycharm": {
     "name": "#%%\n"
    }
   },
   "outputs": [],
   "source": [
    "# INSERT YOUR CODE HERE"
   ]
  },
  {
   "cell_type": "markdown",
   "metadata": {
    "id": "kknXbUp8vjJY",
    "pycharm": {
     "name": "#%% md\n"
    }
   },
   "source": [
    "### 1.4 Advanced version\n",
    "\n"
   ]
  },
  {
   "cell_type": "markdown",
   "metadata": {
    "id": "L73b1kPpvjJZ",
    "pycharm": {
     "name": "#%% md\n"
    }
   },
   "source": [
    "The Logger class can be extended further, adding additional features. \n",
    "\n",
    "**Exercise:** Look at the code of the advanced version of the Logger class and explain in detail the differences that you see in the *\\_\\_init\\_\\_* and _log_ methods (you don't need to worry about the other ones). What feature did we add? Check if the new feature is working correctly.\n",
    "\n",
    "**Note:** You can write your comments in the code using #."
   ]
  },
  {
   "cell_type": "code",
   "execution_count": 4,
   "metadata": {
    "id": "BBEJlvEDvjJZ",
    "pycharm": {
     "name": "#%%\n"
    }
   },
   "outputs": [],
   "source": [
    "# Advanced Logger class\n",
    "class Logger:\n",
    "    def __init__(self, logLevel=0, logFilename=None):\n",
    "        self.logLevel = logLevel\n",
    "        if logFilename is not None:\n",
    "            self.file = open(logFilename, mode='a')\n",
    "        else:\n",
    "            self.file = None\n",
    "\n",
    "    # This method is called when the class goes out of scope.\n",
    "    def __del__(self):\n",
    "        if self.file is not None:\n",
    "            self.file.close()\n",
    "\n",
    "    # This method allows to use the class in a \"with\" statement (see below).\n",
    "    def __enter__(self):\n",
    "        return self\n",
    "\n",
    "    # This method allows to use the class in a \"with\" statement (see below).\n",
    "    def __exit__(self, exc_type, exc_val, exc_tb):\n",
    "        self.file.close()\n",
    "        return\n",
    "\n",
    "    def log(self, message, priority=0):\n",
    "        if priority >= self.logLevel:\n",
    "            msgLine = \"log message ({}): {}\".format(priority, message)\n",
    "\n",
    "            print(message)\n",
    "            if self.file is not None:\n",
    "                self.file.write(\"{}\\n\".format(msgLine))\n",
    "\n",
    "        return\n",
    "\n",
    "    def set_loglevel(self, newLevel):\n",
    "        self.logLevel = newLevel\n",
    "\n",
    "    def get_loglevel(self):\n",
    "        return self.logLevel\n",
    "\n",
    "\n",
    "print('Using Logger class without a with statement:')\n",
    "\n",
    "logger = Logger(1, \"test.txt\")\n",
    "logger.log(\"Hello!\", 2)\n",
    "logger.log(\"World!\", 0)\n",
    "logger.__del__()\n",
    "\n",
    "print('Using Logger class with a with statement:')\n",
    "\n",
    "with Logger(1, \"test2.txt\") as l:\n",
    "    l.log(\"Hello!\", 2)\n",
    "    l.log(\"World!\", 0)"
   ]
  },
  {
   "cell_type": "markdown",
   "metadata": {
    "id": "B6JonBZ7vjJZ",
    "pycharm": {
     "name": "#%% md\n"
    }
   },
   "source": [
    "Finally, you can use the next interactive code to fully understand the power of a Logger class. You don't need to understand the code, just run it and follow the steps given.\n",
    "\n",
    "**Exercise:** Run the following code 3 times with priorities 2, 1, and 0. What's the difference?"
   ]
  },
  {
   "cell_type": "code",
   "execution_count": 7,
   "metadata": {
    "id": "fGXZ-sI7vjJZ",
    "pycharm": {
     "name": "#%%\n"
    },
    "scrolled": true
   },
   "outputs": [],
   "source": [
    "import time\n",
    "\n",
    "input(\n",
    "    'There are three priority levels in this game. If you choose the highest priority level you will only see the most important \\nmessages. Understood? ')\n",
    "\n",
    "correct = False\n",
    "while correct == False:\n",
    "    try:\n",
    "        priority = int(input('Choose your priority level (0, 1 or 2): '))\n",
    "        correct = True\n",
    "    except ValueError:\n",
    "        print('Please write an integer between 0 and 2')\n",
    "\n",
    "logger = Logger(priority, 'yourFile.txt')\n",
    "\n",
    "logger.log('Guy: We are looking for a escaped convict. Please answer the following questions', 2)\n",
    "\n",
    "name = input('Guy: What is your name? ')\n",
    "logger.log(f'Guy: The name \"{name}\" sound familiar to me...', 1)\n",
    "time.sleep(0.5)\n",
    "logger.log('Me: This looks like a scam. I need to run away from here!', 0)\n",
    "\n",
    "age = input('Guy: What is your age? ')\n",
    "logger.log(f'Guy: The convict is also {age} years old!', 1)\n",
    "logger.log('Me: Uh-oh. I need to escape now!', 0)\n",
    "\n",
    "city = input('Where do you live? ')\n",
    "logger.log(\n",
    "    f'Guy: A person named {name} with {age} years old that lives in {city} escaped yesterday from a federal prison!', 2)\n",
    "\n",
    "time.sleep(1)\n",
    "\n",
    "print(\"You have been arrested!\")\n",
    "\n",
    "logger.__del__()"
   ]
  },
  {
   "cell_type": "markdown",
   "metadata": {
    "id": "f_PpoM0WvjJa",
    "pycharm": {
     "name": "#%% md\n"
    }
   },
   "source": [
    "**Exercise:** Open the file _yourFile.txt_, what do you see?"
   ]
  },
  {
   "cell_type": "markdown",
   "metadata": {
    "id": "fdBvBPKVvjJa",
    "pycharm": {
     "name": "#%% md\n"
    }
   },
   "source": [
    "### 1.5 Importing your class\n",
    "\n",
    "If you work in a big project, it is highly recommended to keep your code in separate files. In the next exercise you will learn how to import code from other files.\n",
    "\n",
    "**Exercise:** Create a new text file in the _04-python_ folder (inside Jupyter Notebook) and rename it to _utils.py_. Copy the advanced version of the Logger class in there.\n",
    "\n",
    "\n",
    "To import functions and classes from other files, we need to use the import statement. Given that our class is inside the _utils.py_ file, we need to specify it using `from X import Y`.\n",
    "\n",
    "**Exercise:** Import the Logger class, instantiate it and log some messages.\n",
    "\n",
    "**Note:** When importing code from other files, you don't need to write the file extension (\".py\")."
   ]
  },
  {
   "cell_type": "code",
   "execution_count": null,
   "metadata": {
    "id": "Rr_cgK9bvjJa",
    "pycharm": {
     "name": "#%%\n"
    }
   },
   "outputs": [],
   "source": [
    "# INSERT YOUR CODE HERE"
   ]
  },
  {
   "cell_type": "markdown",
   "metadata": {
    "id": "LB1FR01wvjJa",
    "pycharm": {
     "name": "#%% md\n"
    }
   },
   "source": [
    "## Exercise 2: Lists - Labda Functions, Map, Reduce, Filter\n"
   ]
  },
  {
   "cell_type": "markdown",
   "metadata": {
    "id": "H8OH-DdQvjJa",
    "pycharm": {
     "name": "#%% md\n"
    }
   },
   "source": [
    "## 2.1 Lists\n",
    "A list is a data structure in Python that is a mutable, or changeable, ordered sequence of elements. Each element or value that is inside of a list is called an item. Just as strings are defined as characters between quotes, lists are defined by having values between square brackets [ ].\n",
    "\n",
    "Lists are great to use when you want to work with many related values. They enable you to keep data together that belongs together, condense your code, and perform the same methods and operations on multiple values at once.\n",
    "\n",
    "When thinking about Python lists and other data structures that are types of collections, it is useful to consider all the different collections you have on your computer: your assortment of files, your song playlists, your browser bookmarks, your emails, the collection of videos you can access on a streaming service, and more.\n"
   ]
  },
  {
   "cell_type": "markdown",
   "metadata": {
    "id": "K1KdiV0AvjJb",
    "pycharm": {
     "name": "#%% md\n"
    }
   },
   "source": [
    "## 2.2 Arrays vs. lists\n",
    "# Arrays: \n",
    "An array is a vector containing homogeneous elements i.e. belonging to the same data type. Elements are allocated with contiguous memory locations allowing easy modification, that is, addition, deletion, accessing of elements. In Python, we have to use the array module to declare arrays. If the elements of an array belong to different data types, an exception “Incompatible data types” is thrown\n",
    "\n",
    "# Lists:\n",
    "A list in Python is a collection of items which can contain elements of multiple data types, which may be either numeric, character logical values, etc. It is an ordered collection supporting negative indexing. A list can be created using [] containing data values.\n",
    "\n",
    "## Exersise:\n",
    "We will start by creating a list \"nums\" which contains all numbers from 1-1000 and perform some operations on this list.\n",
    "\n",
    "We will explore List functionalities using a further list \"string\" which contains a sentence.\n"
   ]
  },
  {
   "cell_type": "code",
   "execution_count": 34,
   "metadata": {
    "id": "bMKPNOspvjJb",
    "pycharm": {
     "name": "#%%\n"
    }
   },
   "outputs": [
    {
     "name": "stdout",
     "output_type": "stream",
     "text": [
      "[1, 2, 3, 4, 5, 6, 7, 8, 9, 10, 11, 12, 13, 14, 15, 16, 17, 18, 19, 20, 21, 22, 23, 24, 25, 26, 27, 28, 29, 30, 31, 32, 33, 34, 35, 36, 37, 38, 39, 40, 41, 42, 43, 44, 45, 46, 47, 48, 49, 50, 51, 52, 53, 54, 55, 56, 57, 58, 59, 60, 61, 62, 63, 64, 65, 66, 67, 68, 69, 70, 71, 72, 73, 74, 75, 76, 77, 78, 79, 80, 81, 82, 83, 84, 85, 86, 87, 88, 89, 90, 91, 92, 93, 94, 95, 96, 97, 98, 99, 100, 101, 102, 103, 104, 105, 106, 107, 108, 109, 110, 111, 112, 113, 114, 115, 116, 117, 118, 119, 120, 121, 122, 123, 124, 125, 126, 127, 128, 129, 130, 131, 132, 133, 134, 135, 136, 137, 138, 139, 140, 141, 142, 143, 144, 145, 146, 147, 148, 149, 150, 151, 152, 153, 154, 155, 156, 157, 158, 159, 160, 161, 162, 163, 164, 165, 166, 167, 168, 169, 170, 171, 172, 173, 174, 175, 176, 177, 178, 179, 180, 181, 182, 183, 184, 185, 186, 187, 188, 189, 190, 191, 192, 193, 194, 195, 196, 197, 198, 199, 200, 201, 202, 203, 204, 205, 206, 207, 208, 209, 210, 211, 212, 213, 214, 215, 216, 217, 218, 219, 220, 221, 222, 223, 224, 225, 226, 227, 228, 229, 230, 231, 232, 233, 234, 235, 236, 237, 238, 239, 240, 241, 242, 243, 244, 245, 246, 247, 248, 249, 250, 251, 252, 253, 254, 255, 256, 257, 258, 259, 260, 261, 262, 263, 264, 265, 266, 267, 268, 269, 270, 271, 272, 273, 274, 275, 276, 277, 278, 279, 280, 281, 282, 283, 284, 285, 286, 287, 288, 289, 290, 291, 292, 293, 294, 295, 296, 297, 298, 299, 300, 301, 302, 303, 304, 305, 306, 307, 308, 309, 310, 311, 312, 313, 314, 315, 316, 317, 318, 319, 320, 321, 322, 323, 324, 325, 326, 327, 328, 329, 330, 331, 332, 333, 334, 335, 336, 337, 338, 339, 340, 341, 342, 343, 344, 345, 346, 347, 348, 349, 350, 351, 352, 353, 354, 355, 356, 357, 358, 359, 360, 361, 362, 363, 364, 365, 366, 367, 368, 369, 370, 371, 372, 373, 374, 375, 376, 377, 378, 379, 380, 381, 382, 383, 384, 385, 386, 387, 388, 389, 390, 391, 392, 393, 394, 395, 396, 397, 398, 399, 400, 401, 402, 403, 404, 405, 406, 407, 408, 409, 410, 411, 412, 413, 414, 415, 416, 417, 418, 419, 420, 421, 422, 423, 424, 425, 426, 427, 428, 429, 430, 431, 432, 433, 434, 435, 436, 437, 438, 439, 440, 441, 442, 443, 444, 445, 446, 447, 448, 449, 450, 451, 452, 453, 454, 455, 456, 457, 458, 459, 460, 461, 462, 463, 464, 465, 466, 467, 468, 469, 470, 471, 472, 473, 474, 475, 476, 477, 478, 479, 480, 481, 482, 483, 484, 485, 486, 487, 488, 489, 490, 491, 492, 493, 494, 495, 496, 497, 498, 499, 500, 501, 502, 503, 504, 505, 506, 507, 508, 509, 510, 511, 512, 513, 514, 515, 516, 517, 518, 519, 520, 521, 522, 523, 524, 525, 526, 527, 528, 529, 530, 531, 532, 533, 534, 535, 536, 537, 538, 539, 540, 541, 542, 543, 544, 545, 546, 547, 548, 549, 550, 551, 552, 553, 554, 555, 556, 557, 558, 559, 560, 561, 562, 563, 564, 565, 566, 567, 568, 569, 570, 571, 572, 573, 574, 575, 576, 577, 578, 579, 580, 581, 582, 583, 584, 585, 586, 587, 588, 589, 590, 591, 592, 593, 594, 595, 596, 597, 598, 599, 600, 601, 602, 603, 604, 605, 606, 607, 608, 609, 610, 611, 612, 613, 614, 615, 616, 617, 618, 619, 620, 621, 622, 623, 624, 625, 626, 627, 628, 629, 630, 631, 632, 633, 634, 635, 636, 637, 638, 639, 640, 641, 642, 643, 644, 645, 646, 647, 648, 649, 650, 651, 652, 653, 654, 655, 656, 657, 658, 659, 660, 661, 662, 663, 664, 665, 666, 667, 668, 669, 670, 671, 672, 673, 674, 675, 676, 677, 678, 679, 680, 681, 682, 683, 684, 685, 686, 687, 688, 689, 690, 691, 692, 693, 694, 695, 696, 697, 698, 699, 700, 701, 702, 703, 704, 705, 706, 707, 708, 709, 710, 711, 712, 713, 714, 715, 716, 717, 718, 719, 720, 721, 722, 723, 724, 725, 726, 727, 728, 729, 730, 731, 732, 733, 734, 735, 736, 737, 738, 739, 740, 741, 742, 743, 744, 745, 746, 747, 748, 749, 750, 751, 752, 753, 754, 755, 756, 757, 758, 759, 760, 761, 762, 763, 764, 765, 766, 767, 768, 769, 770, 771, 772, 773, 774, 775, 776, 777, 778, 779, 780, 781, 782, 783, 784, 785, 786, 787, 788, 789, 790, 791, 792, 793, 794, 795, 796, 797, 798, 799, 800, 801, 802, 803, 804, 805, 806, 807, 808, 809, 810, 811, 812, 813, 814, 815, 816, 817, 818, 819, 820, 821, 822, 823, 824, 825, 826, 827, 828, 829, 830, 831, 832, 833, 834, 835, 836, 837, 838, 839, 840, 841, 842, 843, 844, 845, 846, 847, 848, 849, 850, 851, 852, 853, 854, 855, 856, 857, 858, 859, 860, 861, 862, 863, 864, 865, 866, 867, 868, 869, 870, 871, 872, 873, 874, 875, 876, 877, 878, 879, 880, 881, 882, 883, 884, 885, 886, 887, 888, 889, 890, 891, 892, 893, 894, 895, 896, 897, 898, 899, 900, 901, 902, 903, 904, 905, 906, 907, 908, 909, 910, 911, 912, 913, 914, 915, 916, 917, 918, 919, 920, 921, 922, 923, 924, 925, 926, 927, 928, 929, 930, 931, 932, 933, 934, 935, 936, 937, 938, 939, 940, 941, 942, 943, 944, 945, 946, 947, 948, 949, 950, 951, 952, 953, 954, 955, 956, 957, 958, 959, 960, 961, 962, 963, 964, 965, 966, 967, 968, 969, 970, 971, 972, 973, 974, 975, 976, 977, 978, 979, 980, 981, 982, 983, 984, 985, 986, 987, 988, 989, 990, 991, 992, 993, 994, 995, 996, 997, 998, 999, 1000]\n"
     ]
    }
   ],
   "source": [
    "# Create a list which includes all numbers from 1-1000\n",
    "\n",
    "# Using For loop\n",
    "nums = []\n",
    "for iNumb in range(1, 1001):\n",
    "    nums.append(iNumb)\n",
    "\n",
    "# Using List Comprehension\n",
    "nums =  [x for x in range(1, 1001)]\n",
    "\n",
    "print(nums)\n",
    "\n"
   ]
  },
  {
   "cell_type": "code",
   "execution_count": 35,
   "metadata": {
    "id": "ws1mc-F5_Xaf",
    "pycharm": {
     "name": "#%%\n"
    }
   },
   "outputs": [
    {
     "name": "stdout",
     "output_type": "stream",
     "text": [
      "[3, 6, 9, 12, 15, 18, 21, 24, 27, 30, 33, 36, 39, 42, 45, 48, 51, 54, 57, 60, 63, 66, 69, 72, 75, 78, 81, 84, 87, 90, 93, 96, 99, 102, 105, 108, 111, 114, 117, 120, 123, 126, 129, 132, 135, 138, 141, 144, 147, 150, 153, 156, 159, 162, 165, 168, 171, 174, 177, 180, 183, 186, 189, 192, 195, 198, 201, 204, 207, 210, 213, 216, 219, 222, 225, 228, 231, 234, 237, 240, 243, 246, 249, 252, 255, 258, 261, 264, 267, 270, 273, 276, 279, 282, 285, 288, 291, 294, 297, 300, 303, 306, 309, 312, 315, 318, 321, 324, 327, 330, 333, 336, 339, 342, 345, 348, 351, 354, 357, 360, 363, 366, 369, 372, 375, 378, 381, 384, 387, 390, 393, 396, 399, 402, 405, 408, 411, 414, 417, 420, 423, 426, 429, 432, 435, 438, 441, 444, 447, 450, 453, 456, 459, 462, 465, 468, 471, 474, 477, 480, 483, 486, 489, 492, 495, 498, 501, 504, 507, 510, 513, 516, 519, 522, 525, 528, 531, 534, 537, 540, 543, 546, 549, 552, 555, 558, 561, 564, 567, 570, 573, 576, 579, 582, 585, 588, 591, 594, 597, 600, 603, 606, 609, 612, 615, 618, 621, 624, 627, 630, 633, 636, 639, 642, 645, 648, 651, 654, 657, 660, 663, 666, 669, 672, 675, 678, 681, 684, 687, 690, 693, 696, 699, 702, 705, 708, 711, 714, 717, 720, 723, 726, 729, 732, 735, 738, 741, 744, 747, 750, 753, 756, 759, 762, 765, 768, 771, 774, 777, 780, 783, 786, 789, 792, 795, 798, 801, 804, 807, 810, 813, 816, 819, 822, 825, 828, 831, 834, 837, 840, 843, 846, 849, 852, 855, 858, 861, 864, 867, 870, 873, 876, 879, 882, 885, 888, 891, 894, 897, 900, 903, 906, 909, 912, 915, 918, 921, 924, 927, 930, 933, 936, 939, 942, 945, 948, 951, 954, 957, 960, 963, 966, 969, 972, 975, 978, 981, 984, 987, 990, 993, 996, 999]\n"
     ]
    }
   ],
   "source": [
    "# Find all of the numbers from 1–1000 that are divisible by 3\n",
    "nums_divisible_three = []\n",
    "for x in nums:\n",
    "    if x%3 == 0:\n",
    "        nums_divisible_three.append(x)\n",
    "\n",
    "print(nums_divisible_three)\n"
   ]
  },
  {
   "cell_type": "code",
   "execution_count": null,
   "metadata": {
    "id": "WM8t8GiF_oXu",
    "pycharm": {
     "name": "#%%\n"
    }
   },
   "outputs": [],
   "source": [
    "string = \"This is a string which you have to work with.\"\n",
    "# Count the number of spaces string\n",
    "numb_spaces_string =\n"
   ]
  },
  {
   "cell_type": "markdown",
   "metadata": {
    "id": "gGgE3DsxvjJc",
    "pycharm": {
     "name": "#%% md\n"
    }
   },
   "source": [
    "## 2.3 Lambda Functions\n",
    "In Python, an anonymous function is a function that is defined without a name.\n",
    "\n",
    "While normal functions are defined using the __def__ keyword in Python, anonymous functions are defined using the lambda keyword.\n",
    "\n",
    "Hence, anonymous functions are also called lambda functions."
   ]
  },
  {
   "cell_type": "code",
   "execution_count": null,
   "metadata": {
    "id": "zuFkeGRUvjJc",
    "pycharm": {
     "name": "#%%\n"
    },
    "scrolled": true
   },
   "outputs": [],
   "source": [
    "# Write a lambda function which takes z as a parameter and returns z*11\n",
    "i = 9\n",
    "f =\n",
    "\n",
    "print(f(i))"
   ]
  },
  {
   "cell_type": "markdown",
   "metadata": {
    "id": "vqH-I6S2vjJc",
    "pycharm": {
     "name": "#%% md\n"
    }
   },
   "source": [
    "## 2.4 Using lambda() Function with filter()\n",
    "The filter() function in Python takes in a function and a list as arguments. \n",
    "\n",
    "This offers an elegant way to filter out all the elements of a sequence “sequence”, for which the function returns True. "
   ]
  },
  {
   "cell_type": "markdown",
   "metadata": {
    "id": "HEOKI_BivjJc",
    "pycharm": {
     "name": "#%% md\n"
    }
   },
   "source": []
  },
  {
   "cell_type": "code",
   "execution_count": null,
   "metadata": {
    "id": "HEc8livjvjJc",
    "pycharm": {
     "name": "#%%\n"
    }
   },
   "outputs": [],
   "source": [
    "# Example: using filter() function to filter out odd numbers\n",
    "li = [5, 7, 22, 97, 54, 62, 77, 23, 73, 61]\n",
    "final_list = list(filter(lambda x: (x % 2 != 0), li))\n",
    "print(final_list)"
   ]
  },
  {
   "cell_type": "code",
   "execution_count": null,
   "metadata": {
    "id": "1dtCYPSn88H4",
    "pycharm": {
     "name": "#%%\n"
    }
   },
   "outputs": [],
   "source": [
    "# Use filter() to find people with age above 18 yrs\n",
    "ages = [13, 90, 17, 59, 21, 60, 5]\n",
    "adults =\n",
    "\n",
    "print(adults)"
   ]
  },
  {
   "cell_type": "markdown",
   "metadata": {
    "id": "h3k63DS7vjJd",
    "pycharm": {
     "name": "#%% md\n"
    }
   },
   "source": [
    "## 2.5 Using lambda() Function with map()\n",
    "The map() function in Python takes in a function and a list as an argument. The function is called with a lambda function and a list and a new list is returned which contains all the lambda modified items returned by that function for each item."
   ]
  },
  {
   "cell_type": "code",
   "execution_count": null,
   "metadata": {
    "colab": {
     "base_uri": "https://localhost:8080/"
    },
    "id": "tpIfxS_PvjJd",
    "outputId": "89c15726-eb2a-46e7-9977-2418ac91add9",
    "pycharm": {
     "name": "#%%\n"
    }
   },
   "outputs": [],
   "source": [
    "# Example: Use map() function to double the elements in a list\n",
    "li = [5, 7, 22, 97, 54, 62, 77, 23, 73, 61]\n",
    "final_list = list(map(lambda x: x * 2, li))\n",
    "print(final_list)\n"
   ]
  },
  {
   "cell_type": "code",
   "execution_count": null,
   "metadata": {
    "id": "ApLZAFPo84wX",
    "pycharm": {
     "name": "#%%\n"
    }
   },
   "outputs": [],
   "source": [
    "\n",
    "# Use map() to make all letters capital. Hint: use str.upper() to make letters in string capital letter\n",
    "animals = ['dog', 'cat', 'parrot', 'rabbit']\n",
    "uppered_animals =\n",
    "\n",
    "print(uppered_animals)"
   ]
  },
  {
   "cell_type": "markdown",
   "metadata": {
    "id": "NXIqXBx-vjJd",
    "pycharm": {
     "name": "#%% md\n"
    }
   },
   "source": [
    "## 2.6 Using lambda() Function with reduce()\n",
    "The reduce() function in Python takes in a function and a list as an argument. The function is called with a lambda function and an iterable and a new reduced result is returned. This performs a repetitive operation over the pairs of the iterable. The reduce() function belongs to the  functools module. \n"
   ]
  },
  {
   "cell_type": "code",
   "execution_count": null,
   "metadata": {
    "id": "tJCK_xVlvjJd",
    "pycharm": {
     "name": "#%%\n"
    }
   },
   "outputs": [],
   "source": [
    " # Example: using reduce() to find sum of list\n",
    "from functools import reduce\n",
    "\n",
    "li = [5, 8, 10, 20, 50, 100]\n",
    "sum = reduce((lambda x, y: x + y), li)\n",
    "print(sum)"
   ]
  },
  {
   "cell_type": "code",
   "execution_count": null,
   "metadata": {
    "colab": {
     "base_uri": "https://localhost:8080/"
    },
    "id": "BkiTg7KV-P1k",
    "outputId": "bfeec442-8a83-42b2-d5f8-3b20ed8f7d9d",
    "pycharm": {
     "name": "#%%\n"
    }
   },
   "outputs": [],
   "source": [
    "from functools import reduce\n",
    "\n",
    "lis = [1, 3, 5, 6, 2, ]\n",
    "# Use reduce() to find maximum element of list\n",
    "print(\"The maximum element of the list is :\")\n",
    "print(reduce())\n"
   ]
  },
  {
   "cell_type": "markdown",
   "metadata": {
    "pycharm": {
     "name": "#%% md\n"
    }
   },
   "source": [
    "## 2.7 Addition Exercises\n",
    "Note: These are optional exercises, if you are already finished with the previous exercises, you can try these exercises to further improve your skills."
   ]
  },
  {
   "attachments": {},
   "cell_type": "markdown",
   "metadata": {
    "pycharm": {
     "name": "#%% md\n"
    }
   },
   "source": [
    "### 2.7.1 Palindrom Product\n",
    "A palindromic number reads the same both ways. The largest palindrome made from the product of two 2-digit numbers is 9009 = 91 × 99.\n",
    "\n",
    "Find the largest palindrome made from the product of two 3-digit numbers."
   ]
  },
  {
   "cell_type": "code",
   "execution_count": null,
   "metadata": {
    "pycharm": {
     "name": "#%%\n"
    }
   },
   "outputs": [],
   "source": [
    "# INSERT YOUR CODE HERE"
   ]
  },
  {
   "cell_type": "markdown",
   "metadata": {
    "collapsed": false,
    "pycharm": {
     "name": "#%% md\n"
    }
   },
   "source": [
    "### 2.7.4 List comprehension"
   ]
  },
  {
   "cell_type": "markdown",
   "metadata": {
    "collapsed": false,
    "pycharm": {
     "name": "#%% md\n"
    }
   },
   "source": [
    " Find all of the numbers from 1–1000 that have a 6 in them"
   ]
  },
  {
   "cell_type": "code",
   "execution_count": null,
   "metadata": {
    "collapsed": false,
    "pycharm": {
     "name": "#%%\n"
    }
   },
   "outputs": [],
   "source": [
    "nums = [i for i in range(1,1001)]\n",
    "\n",
    "# INSERT YOUR CODE HERE"
   ]
  },
  {
   "cell_type": "markdown",
   "metadata": {
    "collapsed": false,
    "pycharm": {
     "name": "#%% md\n"
    }
   },
   "source": [
    "### 2.7.3 Maximum path sum\n",
    "By starting at the top of the triangle below and moving to adjacent numbers on the row below, the maximum total from top to bottom is 23.\n",
    "<p style=\"text-align: center;\"><span class=\"red\"><b>3</b></span><br><span class=\"red\"><b>7</b></span> 4<br>\n",
    "2 <span class=\"red\"><b>4</b></span> 6<br>\n",
    "8 5 <span class=\"red\"><b>9</b></span> 3</p>\n",
    "That is, 3 + 7 + 4 + 9 = 23.\n",
    "\n",
    "Find the maximum total from top to bottom of the triangle below:\n",
    "\n",
    "<p style=\"text-align: center;\">75<br>\n",
    "95 64<br>\n",
    "17 47 82<br>\n",
    "18 35 87 10<br>\n",
    "20 04 82 47 65<br>\n",
    "19 01 23 75 03 34<br>\n",
    "88 02 77 73 07 63 67<br>\n",
    "99 65 04 28 06 16 70 92<br>\n",
    "41 41 26 56 83 40 80 70 33<br>\n",
    "41 48 72 33 47 32 37 16 94 29<br>\n",
    "53 71 44 65 25 43 91 52 97 51 14<br>\n",
    "70 11 33 28 77 73 17 78 39 68 17 57<br>\n",
    "91 71 52 38 17 14 91 43 58 50 27 29 48<br>\n",
    "63 66 04 68 89 53 67 30 73 16 69 87 40 31<br>\n",
    "04 62 98 27 23 09 70 98 73 93 38 53 60 04 23</p>\n",
    "\n",
    "NOTE: As there are only 16384 routes, it is possible to solve this problem by trying every route or recursively. However, when there are many more routes, it is not possible to solve it by brute force, and a clever method is required! You can try both. For the bruteforce method it might help to represent the path as binary numbers"
   ]
  },
  {
   "cell_type": "code",
   "execution_count": null,
   "metadata": {
    "pycharm": {
     "name": "#%%\n"
    }
   },
   "outputs": [],
   "source": [
    "# INSERT YOUR CODE HERE\n",
    "def compute(triangle):\n",
    "    pass"
   ]
  },
  {
   "cell_type": "code",
   "execution_count": null,
   "metadata": {
    "pycharm": {
     "name": "#%%\n"
    }
   },
   "outputs": [],
   "source": [
    "#Test your code\n",
    "triangle = [  # Mutable\n",
    "    [75],\n",
    "    [95, 64],\n",
    "    [17, 47, 82],\n",
    "    [18, 35, 87, 10],\n",
    "    [20, 4, 82, 47, 65],\n",
    "    [19, 1, 23, 75, 3, 34],\n",
    "    [88, 2, 77, 73, 7, 63, 67],\n",
    "    [99, 65, 4, 28, 6, 16, 70, 92],\n",
    "    [41, 41, 26, 56, 83, 40, 80, 70, 33],\n",
    "    [41, 48, 72, 33, 47, 32, 37, 16, 94, 29],\n",
    "    [53, 71, 44, 65, 25, 43, 91, 52, 97, 51, 14],\n",
    "    [70, 11, 33, 28, 77, 73, 17, 78, 39, 68, 17, 57],\n",
    "    [91, 71, 52, 38, 17, 14, 91, 43, 58, 50, 27, 29, 48],\n",
    "    [63, 66, 4, 68, 89, 53, 67, 30, 73, 16, 69, 87, 40, 31],\n",
    "    [4, 62, 98, 27, 23, 9, 70, 98, 73, 93, 38, 53, 60, 4, 23],\n",
    "]\n",
    "print(compute(triangle))"
   ]
  }
 ],
 "metadata": {
  "colab": {
   "collapsed_sections": [],
   "name": "exercise_4_solution.ipynb",
   "provenance": []
  },
  "kernelspec": {
   "display_name": "Python 3 (ipykernel)",
   "language": "python",
   "name": "python3"
  },
  "language_info": {
   "codemirror_mode": {
    "name": "ipython",
    "version": 3
   },
   "file_extension": ".py",
   "mimetype": "text/x-python",
   "name": "python",
   "nbconvert_exporter": "python",
   "pygments_lexer": "ipython3",
   "version": "3.11.5"
  }
 },
 "nbformat": 4,
 "nbformat_minor": 1
}
