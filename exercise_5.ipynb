{
 "cells": [
  {
   "cell_type": "markdown",
   "id": "careful-economy",
   "metadata": {
    "pycharm": {
     "name": "#%% md\n"
    }
   },
   "source": [
    "<img src=\"https://upload.wikimedia.org/wikipedia/commons/6/63/ETH_Z%C3%BCrich_wordmark.svg\" width=\"200\" height=\"200\" align=\"left\">\n",
    "<br />\n",
    "<div align=\"right\"> <b/> FS 2021\n",
    "<br />\n",
    "    \n",
    "## <div align=\"center\"> Project & Seminars: Python for Science & Machine Learning\n",
    "---"
   ]
  },
  {
   "cell_type": "markdown",
   "id": "informational-houston",
   "metadata": {
    "pycharm": {
     "name": "#%% md\n"
    }
   },
   "source": [
    "# <div align=\"center\"> Exercise Week 5"
   ]
  },
  {
   "cell_type": "code",
   "execution_count": null,
   "id": "d0ac1f23",
   "metadata": {
    "pycharm": {
     "name": "#%%\n"
    }
   },
   "outputs": [],
   "source": [
    "!pip install numpy\n",
    "!pip install pandas\n",
    "!pip install matplotlib\n",
    "!pip install opencv-python"
   ]
  },
  {
   "cell_type": "markdown",
   "id": "entertaining-poker",
   "metadata": {
    "pycharm": {
     "name": "#%% md\n"
    }
   },
   "source": [
    "# Exercise 1: Numpy \n",
    "\n",
    "This exercise aims to get you used to numpy and what better way to visualise your effects on data, then by actually applying them on an image? _All operations are of course applicable on arbitrary numpy data._\n",
    "\n",
    "Here you can see the image we are dealing with and that the image is of `type: ndarray`. Solve all exercises **soley with numpy** functions!\n",
    "\n",
    "**Tipp:** Try to think of the solution in terms of what we learned in the lecture. Most can be done with a simple one-liner."
   ]
  },
  {
   "cell_type": "code",
   "execution_count": 1,
   "id": "ee8fd84f",
   "metadata": {
    "pycharm": {
     "name": "#%%\n"
    }
   },
   "outputs": [
    {
     "ename": "ImportError",
     "evalue": "DLL load failed while importing _cext: Das angegebene Modul wurde nicht gefunden.",
     "output_type": "error",
     "traceback": [
      "\u001b[1;31m---------------------------------------------------------------------------\u001b[0m",
      "\u001b[1;31mImportError\u001b[0m                               Traceback (most recent call last)",
      "Cell \u001b[1;32mIn[1], line 2\u001b[0m\n\u001b[0;32m      1\u001b[0m \u001b[38;5;28;01mimport\u001b[39;00m \u001b[38;5;21;01mnumpy\u001b[39;00m \u001b[38;5;28;01mas\u001b[39;00m \u001b[38;5;21;01mnp\u001b[39;00m\n\u001b[1;32m----> 2\u001b[0m \u001b[38;5;28;01mimport\u001b[39;00m \u001b[38;5;21;01mmatplotlib\u001b[39;00m\u001b[38;5;21;01m.\u001b[39;00m\u001b[38;5;21;01mpyplot\u001b[39;00m \u001b[38;5;28;01mas\u001b[39;00m \u001b[38;5;21;01mplt\u001b[39;00m\n\u001b[0;32m      3\u001b[0m \u001b[38;5;28;01mimport\u001b[39;00m \u001b[38;5;21;01mmatplotlib\u001b[39;00m\u001b[38;5;21;01m.\u001b[39;00m\u001b[38;5;21;01mcm\u001b[39;00m \u001b[38;5;28;01mas\u001b[39;00m \u001b[38;5;21;01mcm\u001b[39;00m\n\u001b[0;32m      4\u001b[0m \u001b[38;5;28;01mfrom\u001b[39;00m \u001b[38;5;21;01mmatplotlib\u001b[39;00m\u001b[38;5;21;01m.\u001b[39;00m\u001b[38;5;21;01mimage\u001b[39;00m \u001b[38;5;28;01mimport\u001b[39;00m imread\n",
      "File \u001b[1;32mc:\\Users\\aco\\avidackovic\\.venv\\Lib\\site-packages\\matplotlib\\__init__.py:272\u001b[0m\n\u001b[0;32m    267\u001b[0m         \u001b[38;5;28;01mif\u001b[39;00m parse_version(module\u001b[38;5;241m.\u001b[39m__version__) \u001b[38;5;241m<\u001b[39m parse_version(minver):\n\u001b[0;32m    268\u001b[0m             \u001b[38;5;28;01mraise\u001b[39;00m \u001b[38;5;167;01mImportError\u001b[39;00m(\u001b[38;5;124mf\u001b[39m\u001b[38;5;124m\"\u001b[39m\u001b[38;5;124mMatplotlib requires \u001b[39m\u001b[38;5;132;01m{\u001b[39;00mmodname\u001b[38;5;132;01m}\u001b[39;00m\u001b[38;5;124m>=\u001b[39m\u001b[38;5;132;01m{\u001b[39;00mminver\u001b[38;5;132;01m}\u001b[39;00m\u001b[38;5;124m; \u001b[39m\u001b[38;5;124m\"\u001b[39m\n\u001b[0;32m    269\u001b[0m                               \u001b[38;5;124mf\u001b[39m\u001b[38;5;124m\"\u001b[39m\u001b[38;5;124myou have \u001b[39m\u001b[38;5;132;01m{\u001b[39;00mmodule\u001b[38;5;241m.\u001b[39m__version__\u001b[38;5;132;01m}\u001b[39;00m\u001b[38;5;124m\"\u001b[39m)\n\u001b[1;32m--> 272\u001b[0m \u001b[43m_check_versions\u001b[49m\u001b[43m(\u001b[49m\u001b[43m)\u001b[49m\n\u001b[0;32m    275\u001b[0m \u001b[38;5;66;03m# The decorator ensures this always returns the same handler (and it is only\u001b[39;00m\n\u001b[0;32m    276\u001b[0m \u001b[38;5;66;03m# attached once).\u001b[39;00m\n\u001b[0;32m    277\u001b[0m \u001b[38;5;129m@functools\u001b[39m\u001b[38;5;241m.\u001b[39mcache\n\u001b[0;32m    278\u001b[0m \u001b[38;5;28;01mdef\u001b[39;00m \u001b[38;5;21m_ensure_handler\u001b[39m():\n",
      "File \u001b[1;32mc:\\Users\\aco\\avidackovic\\.venv\\Lib\\site-packages\\matplotlib\\__init__.py:266\u001b[0m, in \u001b[0;36m_check_versions\u001b[1;34m()\u001b[0m\n\u001b[0;32m    257\u001b[0m \u001b[38;5;28;01mfrom\u001b[39;00m \u001b[38;5;21;01m.\u001b[39;00m \u001b[38;5;28;01mimport\u001b[39;00m ft2font\n\u001b[0;32m    259\u001b[0m \u001b[38;5;28;01mfor\u001b[39;00m modname, minver \u001b[38;5;129;01min\u001b[39;00m [\n\u001b[0;32m    260\u001b[0m         (\u001b[38;5;124m\"\u001b[39m\u001b[38;5;124mcycler\u001b[39m\u001b[38;5;124m\"\u001b[39m, \u001b[38;5;124m\"\u001b[39m\u001b[38;5;124m0.10\u001b[39m\u001b[38;5;124m\"\u001b[39m),\n\u001b[0;32m    261\u001b[0m         (\u001b[38;5;124m\"\u001b[39m\u001b[38;5;124mdateutil\u001b[39m\u001b[38;5;124m\"\u001b[39m, \u001b[38;5;124m\"\u001b[39m\u001b[38;5;124m2.7\u001b[39m\u001b[38;5;124m\"\u001b[39m),\n\u001b[1;32m   (...)\u001b[0m\n\u001b[0;32m    264\u001b[0m         (\u001b[38;5;124m\"\u001b[39m\u001b[38;5;124mpyparsing\u001b[39m\u001b[38;5;124m\"\u001b[39m, \u001b[38;5;124m\"\u001b[39m\u001b[38;5;124m2.3.1\u001b[39m\u001b[38;5;124m\"\u001b[39m),\n\u001b[0;32m    265\u001b[0m ]:\n\u001b[1;32m--> 266\u001b[0m     module \u001b[38;5;241m=\u001b[39m \u001b[43mimportlib\u001b[49m\u001b[38;5;241;43m.\u001b[39;49m\u001b[43mimport_module\u001b[49m\u001b[43m(\u001b[49m\u001b[43mmodname\u001b[49m\u001b[43m)\u001b[49m\n\u001b[0;32m    267\u001b[0m     \u001b[38;5;28;01mif\u001b[39;00m parse_version(module\u001b[38;5;241m.\u001b[39m__version__) \u001b[38;5;241m<\u001b[39m parse_version(minver):\n\u001b[0;32m    268\u001b[0m         \u001b[38;5;28;01mraise\u001b[39;00m \u001b[38;5;167;01mImportError\u001b[39;00m(\u001b[38;5;124mf\u001b[39m\u001b[38;5;124m\"\u001b[39m\u001b[38;5;124mMatplotlib requires \u001b[39m\u001b[38;5;132;01m{\u001b[39;00mmodname\u001b[38;5;132;01m}\u001b[39;00m\u001b[38;5;124m>=\u001b[39m\u001b[38;5;132;01m{\u001b[39;00mminver\u001b[38;5;132;01m}\u001b[39;00m\u001b[38;5;124m; \u001b[39m\u001b[38;5;124m\"\u001b[39m\n\u001b[0;32m    269\u001b[0m                           \u001b[38;5;124mf\u001b[39m\u001b[38;5;124m\"\u001b[39m\u001b[38;5;124myou have \u001b[39m\u001b[38;5;132;01m{\u001b[39;00mmodule\u001b[38;5;241m.\u001b[39m__version__\u001b[38;5;132;01m}\u001b[39;00m\u001b[38;5;124m\"\u001b[39m)\n",
      "File \u001b[1;32mC:\\Program Files\\WindowsApps\\PythonSoftwareFoundation.Python.3.12_3.12.1008.0_x64__qbz5n2kfra8p0\\Lib\\importlib\\__init__.py:90\u001b[0m, in \u001b[0;36mimport_module\u001b[1;34m(name, package)\u001b[0m\n\u001b[0;32m     88\u001b[0m             \u001b[38;5;28;01mbreak\u001b[39;00m\n\u001b[0;32m     89\u001b[0m         level \u001b[38;5;241m+\u001b[39m\u001b[38;5;241m=\u001b[39m \u001b[38;5;241m1\u001b[39m\n\u001b[1;32m---> 90\u001b[0m \u001b[38;5;28;01mreturn\u001b[39;00m \u001b[43m_bootstrap\u001b[49m\u001b[38;5;241;43m.\u001b[39;49m\u001b[43m_gcd_import\u001b[49m\u001b[43m(\u001b[49m\u001b[43mname\u001b[49m\u001b[43m[\u001b[49m\u001b[43mlevel\u001b[49m\u001b[43m:\u001b[49m\u001b[43m]\u001b[49m\u001b[43m,\u001b[49m\u001b[43m \u001b[49m\u001b[43mpackage\u001b[49m\u001b[43m,\u001b[49m\u001b[43m \u001b[49m\u001b[43mlevel\u001b[49m\u001b[43m)\u001b[49m\n",
      "File \u001b[1;32mc:\\Users\\aco\\avidackovic\\.venv\\Lib\\site-packages\\kiwisolver\\__init__.py:8\u001b[0m\n\u001b[0;32m      1\u001b[0m \u001b[38;5;66;03m# --------------------------------------------------------------------------------------\u001b[39;00m\n\u001b[0;32m      2\u001b[0m \u001b[38;5;66;03m# Copyright (c) 2013-2022, Nucleic Development Team.\u001b[39;00m\n\u001b[0;32m      3\u001b[0m \u001b[38;5;66;03m#\u001b[39;00m\n\u001b[1;32m   (...)\u001b[0m\n\u001b[0;32m      6\u001b[0m \u001b[38;5;66;03m# The full license is in the file LICENSE, distributed with this software.\u001b[39;00m\n\u001b[0;32m      7\u001b[0m \u001b[38;5;66;03m# --------------------------------------------------------------------------------------\u001b[39;00m\n\u001b[1;32m----> 8\u001b[0m \u001b[38;5;28;01mfrom\u001b[39;00m \u001b[38;5;21;01m.\u001b[39;00m\u001b[38;5;21;01m_cext\u001b[39;00m \u001b[38;5;28;01mimport\u001b[39;00m (\n\u001b[0;32m      9\u001b[0m     Constraint,\n\u001b[0;32m     10\u001b[0m     Expression,\n\u001b[0;32m     11\u001b[0m     Solver,\n\u001b[0;32m     12\u001b[0m     Term,\n\u001b[0;32m     13\u001b[0m     Variable,\n\u001b[0;32m     14\u001b[0m     __kiwi_version__,\n\u001b[0;32m     15\u001b[0m     __version__,\n\u001b[0;32m     16\u001b[0m     strength,\n\u001b[0;32m     17\u001b[0m )\n\u001b[0;32m     18\u001b[0m \u001b[38;5;28;01mfrom\u001b[39;00m \u001b[38;5;21;01m.\u001b[39;00m\u001b[38;5;21;01mexceptions\u001b[39;00m \u001b[38;5;28;01mimport\u001b[39;00m (\n\u001b[0;32m     19\u001b[0m     BadRequiredStrength,\n\u001b[0;32m     20\u001b[0m     DuplicateConstraint,\n\u001b[1;32m   (...)\u001b[0m\n\u001b[0;32m     24\u001b[0m     UnsatisfiableConstraint,\n\u001b[0;32m     25\u001b[0m )\n\u001b[0;32m     27\u001b[0m __all__ \u001b[38;5;241m=\u001b[39m [\n\u001b[0;32m     28\u001b[0m     \u001b[38;5;124m\"\u001b[39m\u001b[38;5;124mBadRequiredStrength\u001b[39m\u001b[38;5;124m\"\u001b[39m,\n\u001b[0;32m     29\u001b[0m     \u001b[38;5;124m\"\u001b[39m\u001b[38;5;124mDuplicateConstraint\u001b[39m\u001b[38;5;124m\"\u001b[39m,\n\u001b[1;32m   (...)\u001b[0m\n\u001b[0;32m     41\u001b[0m     \u001b[38;5;124m\"\u001b[39m\u001b[38;5;124m__kiwi_version__\u001b[39m\u001b[38;5;124m\"\u001b[39m,\n\u001b[0;32m     42\u001b[0m ]\n",
      "\u001b[1;31mImportError\u001b[0m: DLL load failed while importing _cext: Das angegebene Modul wurde nicht gefunden."
     ]
    }
   ],
   "source": [
    "import numpy as np\n",
    "import matplotlib.pyplot as plt\n",
    "import matplotlib.cm as cm\n",
    "from matplotlib.image import imread\n",
    "\n",
    "img = imread('numpy.png')[:,:,:3] #We want RGB not RGBA\n",
    "\n",
    "print(type(img))\n",
    "plt.imshow(img)"
   ]
  },
  {
   "cell_type": "markdown",
   "id": "c6dda114",
   "metadata": {
    "pycharm": {
     "name": "#%% md\n"
    }
   },
   "source": [
    "### Exercise 1.1: Downsize the image\n",
    "\n",
    "Often you will need to downsize your data. Do so by sampling every second element of the image while respecting it's RGB channels."
   ]
  },
  {
   "cell_type": "code",
   "execution_count": null,
   "id": "622a6502",
   "metadata": {},
   "outputs": [],
   "source": [
    "img_small = img[::2, ::2]\n",
    "\n",
    "print(img_small.shape)\n",
    "plt.imshow(img_small)"
   ]
  },
  {
   "cell_type": "markdown",
   "id": "628f07c3",
   "metadata": {
    "pycharm": {
     "name": "#%%\n"
    }
   },
   "source": [
    "img_small = \n",
    "\n",
    "print(img_small.shape)\n",
    "plt.imshow(img_small)"
   ]
  },
  {
   "cell_type": "markdown",
   "id": "b9513a71",
   "metadata": {
    "pycharm": {
     "name": "#%% md\n"
    }
   },
   "source": [
    "### Exercise 1.2: Grayscale the downsized image\n",
    "\n",
    "Now grayscale it by averaging the RGB channels accordingly i.e. we want to transform the image from (113, 113, 3) to (113, 113). \n",
    "\n",
    "(This is only a crude version of actual grayscale ;))"
   ]
  },
  {
   "cell_type": "code",
   "execution_count": null,
   "id": "77ea39f6",
   "metadata": {
    "pycharm": {
     "name": "#%%\n"
    }
   },
   "outputs": [],
   "source": [
    "gray = np.mean(img_small, axis = 2)\n",
    "\n",
    "print(gray.shape)\n",
    "plt.imshow(gray, cmap=cm.gray) #cmap is necessary for color mapping in matplotlib"
   ]
  },
  {
   "cell_type": "markdown",
   "id": "bca8a873",
   "metadata": {
    "pycharm": {
     "name": "#%% md\n"
    }
   },
   "source": [
    "### Exercise 1.3: Flip the image \n",
    "\n",
    "Use the original image and flip it vertically"
   ]
  },
  {
   "cell_type": "code",
   "execution_count": null,
   "id": "075154a1",
   "metadata": {
    "pycharm": {
     "name": "#%%\n"
    }
   },
   "outputs": [],
   "source": [
    "flip_img = np.flip(img, axis=0)\n",
    "\n",
    "plt.imshow(flip_img)"
   ]
  },
  {
   "cell_type": "markdown",
   "id": "8ec28349",
   "metadata": {
    "pycharm": {
     "name": "#%% md\n"
    }
   },
   "source": [
    "### Exercise 1.4: Mirror the image\n",
    "\n",
    "Use the original image and mirror it."
   ]
  },
  {
   "cell_type": "code",
   "execution_count": null,
   "id": "b3671f33",
   "metadata": {
    "pycharm": {
     "name": "#%%\n"
    }
   },
   "outputs": [],
   "source": [
    "mirror_img = np.flip(img, axis=1)\n",
    "\n",
    "plt.imshow(mirror_img)"
   ]
  },
  {
   "cell_type": "markdown",
   "id": "397b6893",
   "metadata": {
    "pycharm": {
     "name": "#%% md\n"
    }
   },
   "source": [
    "### Exercise 1.5: Crop parts of the image\n",
    "\n",
    "Use the original image and crop out the \"N\" of the logo as well as you can."
   ]
  },
  {
   "cell_type": "code",
   "execution_count": null,
   "id": "7fc3d2f7",
   "metadata": {
    "pycharm": {
     "name": "#%%\n"
    }
   },
   "outputs": [],
   "source": [
    "crop_img = img[66:206, 20:110]\n",
    "\n",
    "plt.imshow(crop_img)"
   ]
  },
  {
   "cell_type": "markdown",
   "metadata": {
    "collapsed": false,
    "pycharm": {
     "name": "#%% md\n"
    }
   },
   "source": [
    "### Exercise 1.6: Change color of the image\n",
    "\n",
    "Use the original image and change the color of the background"
   ]
  },
  {
   "cell_type": "code",
   "execution_count": null,
   "metadata": {
    "collapsed": false,
    "pycharm": {
     "name": "#%%\n"
    }
   },
   "outputs": [],
   "source": [
    "img_new=img.copy()\n",
    "#YourCode\n",
    "img_new = img_new[:,:,1]\n",
    "plt.imshow(img_new)\n",
    "#"
   ]
  },
  {
   "cell_type": "markdown",
   "id": "a5cbf0fb",
   "metadata": {
    "pycharm": {
     "name": "#%% md\n"
    }
   },
   "source": [
    "### Exercise 1.7: Filter and replace the image\n",
    "\n",
    "Replace all values that are larger then the mean of the image with the maximum of the image and everything else with the minimum value.\n",
    "\n",
    "This here is the naive implementation of what you are supposed to do:\n",
    "```\n",
    "for val in matrix:\n",
    "    if val > mean_of_matrix:\n",
    "        val = max_of_matrix\n",
    "    else:\n",
    "        val = min_of_matrix\n",
    "```"
   ]
  },
  {
   "cell_type": "code",
   "execution_count": null,
   "id": "8ed137b4",
   "metadata": {
    "pycharm": {
     "name": "#%%\n"
    }
   },
   "outputs": [],
   "source": [
    "filter_img = #YourCode\n",
    "\n",
    "plt.imshow(filter_img)"
   ]
  },
  {
   "cell_type": "markdown",
   "id": "b8768813",
   "metadata": {
    "pycharm": {
     "name": "#%% md\n"
    }
   },
   "source": [
    "### Exercise 1.8: Fit a straight line to data using least squares method\n",
    "You are given a set of data points that follow a linear relation $ y = m*x $, but each data point has some gaussian noise to it. The slope is somewhere between 0.5 and 10. Your job is to find the slope that best fits the data using a least squares method. The least squares method minimizes the sum of the residuals squared:\n",
    "\n",
    "$$ S = \\sum_{i}^{n} (y_{data} - y_{fit})^2 $$"
   ]
  },
  {
   "cell_type": "markdown",
   "id": "daf870c0",
   "metadata": {
    "pycharm": {
     "name": "#%% md\n"
    }
   },
   "source": [
    "The following script visualizes all the points\n"
   ]
  },
  {
   "cell_type": "code",
   "execution_count": null,
   "id": "a58dbc12",
   "metadata": {
    "pycharm": {
     "name": "#%%\n"
    }
   },
   "outputs": [],
   "source": [
    "# data set\n",
    "x = np.arange(0,11)\n",
    "y_data = np.array([-1.8971513, 3.88618629, 7.97663555, 10.44145465, 8.19995661, 16.74843274, 15.6241059, 21.656066, 23.88915019, 21.55396888, 28.92865789])\n",
    "\n",
    "# plot the data\n",
    "plt.figure()\n",
    "plt.plot(x,y_data,'r+', label = \"Data\")\n",
    "plt.xlabel(\"x\")\n",
    "plt.ylabel(\"y\")\n",
    "plt.legend()\n",
    "plt.grid()\n",
    "plt.show()"
   ]
  },
  {
   "cell_type": "code",
   "execution_count": null,
   "id": "5db89b91",
   "metadata": {
    "pycharm": {
     "name": "#%%\n"
    }
   },
   "outputs": [],
   "source": [
    "\"\"\" complete the script to get the best fit, and plot it \"\"\"\n",
    "# function to get sum of residuals squared, S\n",
    "def sum_residual_square(y_data, y_fit):\n",
    "    # takes in two arrays, y_data and y_fit\n",
    "    # find residuals (y_data - y_fit), square them, and sum them together\n",
    "    # this will not need any for loops!\n",
    "    # return a single number: S. Not an array.\n",
    "    # INSERT YOUR CODE HERE\n",
    "    return S\n",
    "\n",
    "# create an evenly spaced array of 1000 values for m between 0.5 and 10.\n",
    "# INSERT YOUR CODE HERE\n",
    "\n",
    "\n",
    "S_array = np.empty(1000)\n",
    "# find the m that gives the smallest S\n",
    "# HINT: iterate through all m and calculate S each iteration\n",
    "# INSERT YOUR CODE HERE TO FILL THE S_array WITH VALUES and find the best m\n",
    "# Replace m_best=1 with your best m (m=1 is wrong)\n",
    "\n",
    "m_best = 1\n",
    "print(\"Best fit is m =\", m_best)\n",
    "\n",
    "# plot the data with the fitted line\n",
    "plt.figure()\n",
    "plt.plot(x, y_data, 'r+', label = \"Data\")\n",
    "plt.plot(x, m_best*x, label = 'Fit')\n",
    "\n",
    "plt.xlabel(\"x\")\n",
    "plt.ylabel(\"y\")\n",
    "plt.legend()\n",
    "plt.grid()\n",
    "plt.show()"
   ]
  },
  {
   "cell_type": "markdown",
   "id": "7bf5b6ec",
   "metadata": {
    "pycharm": {
     "name": "#%% md\n"
    }
   },
   "source": [
    "# Exercise 2: Pandas\n",
    "\n",
    "Now we are going to look into pandas with the famous _titanic dataset_. Here a brief description of the data:\n",
    "\n",
    "pclass: A proxy for socio-economic status (SES)\n",
    "1st = Upper\n",
    "2nd = Middle\n",
    "3rd = Lower\n",
    "\n",
    "age: Age is fractional if less than 1. If the age is estimated, is it in the form of xx.5\n",
    "\n",
    "sibsp: The dataset defines family relations in this way...\n",
    "Sibling = brother, sister, stepbrother, stepsister\n",
    "Spouse = husband, wife (mistresses and fiancés were ignored)\n",
    "\n",
    "parch: The dataset defines family relations in this way...\n",
    "Parent = mother, father\n",
    "Child = daughter, son, stepdaughter, stepson\n",
    "Some children travelled only with a nanny, therefore parch=0 for them.\n",
    "\n",
    "Embarked: Port of Embarkation. C = Cherbourg, Q = Queenstown, S = Southampton.\n",
    "\n",
    "More info on [kaggle](https://www.kaggle.com/c/titanic/data)."
   ]
  },
  {
   "cell_type": "code",
   "execution_count": null,
   "id": "5a3c1b18",
   "metadata": {
    "pycharm": {
     "name": "#%%\n"
    }
   },
   "outputs": [],
   "source": [
    "import pandas as pd\n",
    "\n",
    "df = pd.read_csv('titanic.csv')\n",
    "df.head(10)"
   ]
  },
  {
   "cell_type": "markdown",
   "id": "aced4ec9",
   "metadata": {
    "pycharm": {
     "name": "#%% md\n"
    }
   },
   "source": [
    "### Exercise 2.1: Percentage of survivors\n",
    "\n",
    "Show the percentage of how many passengers survived"
   ]
  },
  {
   "cell_type": "code",
   "execution_count": null,
   "id": "b7bcfbb4",
   "metadata": {
    "pycharm": {
     "name": "#%%\n"
    }
   },
   "outputs": [],
   "source": [
    "#YourCode"
   ]
  },
  {
   "cell_type": "markdown",
   "id": "50e3b212",
   "metadata": {
    "pycharm": {
     "name": "#%% md\n"
    }
   },
   "source": [
    "### Exercise 2.2: Gender bias?\n",
    "\n",
    "When the ship is sinking, usually women were evacuated first. Is this true? Print the survival percentage of males and females.\n",
    "\n",
    "Hint: Use the pandas [doc](https://pandas.pydata.org/docs/reference/api/pandas.DataFrame.groupby.html)."
   ]
  },
  {
   "cell_type": "code",
   "execution_count": null,
   "id": "879e7080",
   "metadata": {
    "pycharm": {
     "name": "#%%\n"
    }
   },
   "outputs": [],
   "source": [
    "#YourCode"
   ]
  },
  {
   "cell_type": "markdown",
   "id": "73e00528",
   "metadata": {
    "pycharm": {
     "name": "#%% md\n"
    }
   },
   "source": [
    "### Exercise 2.2: Did the age diminish the gender bias?\n",
    "\n",
    "Usually the evacuation saying was: _Women and children first_. Were children effected by the gender bias as well?\n",
    "\n",
    "Hint: Use the pandas [doc](https://pandas.pydata.org/docs/reference/api/pandas.DataFrame.where.html)."
   ]
  },
  {
   "cell_type": "code",
   "execution_count": null,
   "id": "e1e76862",
   "metadata": {
    "pycharm": {
     "name": "#%%\n"
    }
   },
   "outputs": [],
   "source": [
    "print('Adults: ', #YourCode)\n",
    "print('Children: ', #YourCode)"
   ]
  },
  {
   "cell_type": "markdown",
   "id": "b2d3d1fd",
   "metadata": {
    "pycharm": {
     "name": "#%% md\n"
    }
   },
   "source": [
    "### Exercise 2.3: Did money play a role in survival?\n",
    "\n",
    "Were your chances of survival higher if you were rich? Does the gender bias still apply? Group the survival according to `sex` and `pclass`."
   ]
  },
  {
   "cell_type": "code",
   "execution_count": null,
   "id": "b0319fe1",
   "metadata": {
    "pycharm": {
     "name": "#%%\n"
    }
   },
   "outputs": [],
   "source": [
    "#YourCode"
   ]
  },
  {
   "attachments": {},
   "cell_type": "markdown",
   "id": "6602904c",
   "metadata": {
    "pycharm": {
     "name": "#%% md\n"
    }
   },
   "source": [
    "## 3 Addition Exercises\n",
    "\n"
   ]
  },
  {
   "attachments": {},
   "cell_type": "markdown",
   "id": "9f3cb7b6",
   "metadata": {
    "pycharm": {
     "name": "#%% md\n"
    }
   },
   "source": [
    "### 3.1 These are exercises from https://github.com/rougier/numpy-100"
   ]
  },
  {
   "attachments": {},
   "cell_type": "markdown",
   "id": "397b65eb",
   "metadata": {
    "pycharm": {
     "name": "#%% md\n"
    }
   },
   "source": [
    "9. Create a 3x3 matrix with values ranging from 0 to 8 (★☆☆)"
   ]
  },
  {
   "cell_type": "code",
   "execution_count": null,
   "id": "a9638513",
   "metadata": {
    "pycharm": {
     "name": "#%%\n"
    }
   },
   "outputs": [],
   "source": []
  },
  {
   "attachments": {},
   "cell_type": "markdown",
   "id": "7025c411",
   "metadata": {
    "pycharm": {
     "name": "#%% md\n"
    }
   },
   "source": [
    "\n",
    "19. Create a 8x8 matrix and fill it with a checkerboard pattern (★☆☆)"
   ]
  },
  {
   "cell_type": "code",
   "execution_count": null,
   "id": "0d86acbb",
   "metadata": {
    "pycharm": {
     "name": "#%%\n"
    }
   },
   "outputs": [],
   "source": []
  },
  {
   "attachments": {},
   "cell_type": "markdown",
   "id": "8a6be154",
   "metadata": {
    "pycharm": {
     "name": "#%% md\n"
    }
   },
   "source": [
    "### 3.2 Dog dataset Zurich\n",
    "\n",
    "Given a dataset from the year 2015 that contains information about dog owners in Zurich, Switzerland, your task is to identify the STADTKREIS (region number in Zurich) where owners have spent the biggest portion of their life with their dog. Report the portion of life spent with the dog and the stadtkreis.\n",
    "\n",
    "Some informaiton about the columns\\\n",
    "ALTER=Age of Owner (it gives a range, take the mean of the range)\\\n",
    "GEBURTSJAHR_HUND=Birthyear Dog\\\n",
    "STADTKREIS=Region number in Zurich\n",
    "\n",
    "Hint: Some rows have missing data, just discard them.\n",
    "\n",
    "The correct Stadtkreis is 2"
   ]
  },
  {
   "cell_type": "code",
   "execution_count": null,
   "id": "2ebdbee2",
   "metadata": {
    "pycharm": {
     "name": "#%%\n"
    }
   },
   "outputs": [],
   "source": [
    "df = pd.read_csv('20151001hundehalter.csv')"
   ]
  },
  {
   "cell_type": "code",
   "execution_count": null,
   "id": "6c483c1b",
   "metadata": {
    "pycharm": {
     "name": "#%%\n"
    }
   },
   "outputs": [],
   "source": []
  }
 ],
 "metadata": {
  "kernelspec": {
   "display_name": "Python 3 (ipykernel)",
   "language": "python",
   "name": "python3"
  },
  "language_info": {
   "codemirror_mode": {
    "name": "ipython",
    "version": 3
   },
   "file_extension": ".py",
   "mimetype": "text/x-python",
   "name": "python",
   "nbconvert_exporter": "python",
   "pygments_lexer": "ipython3",
   "version": "3.12.3"
  }
 },
 "nbformat": 4,
 "nbformat_minor": 5
}
